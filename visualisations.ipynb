{
 "cells": [
  {
   "cell_type": "code",
   "execution_count": 8,
   "id": "initial_id",
   "metadata": {
    "ExecuteTime": {
     "end_time": "2024-04-02T22:15:50.298569Z",
     "start_time": "2024-04-02T22:15:49.966563Z"
    }
   },
   "outputs": [],
   "source": [
    "import pandas as pd\n",
    "import plotly.express as px\n",
    "import plotly.graph_objects as go"
   ]
  },
  {
   "cell_type": "code",
   "execution_count": 12,
   "id": "12349889d3c5fdb2",
   "metadata": {
    "ExecuteTime": {
     "end_time": "2024-04-02T22:15:51.259324Z",
     "start_time": "2024-04-02T22:15:51.246475Z"
    },
    "collapsed": false,
    "jupyter": {
     "outputs_hidden": false
    }
   },
   "outputs": [
    {
     "data": {
      "text/html": [
       "<div>\n",
       "<style scoped>\n",
       "    .dataframe tbody tr th:only-of-type {\n",
       "        vertical-align: middle;\n",
       "    }\n",
       "\n",
       "    .dataframe tbody tr th {\n",
       "        vertical-align: top;\n",
       "    }\n",
       "\n",
       "    .dataframe thead th {\n",
       "        text-align: right;\n",
       "    }\n",
       "</style>\n",
       "<table border=\"1\" class=\"dataframe\">\n",
       "  <thead>\n",
       "    <tr style=\"text-align: right;\">\n",
       "      <th></th>\n",
       "      <th>competitorname</th>\n",
       "      <th>chocolate</th>\n",
       "      <th>fruity</th>\n",
       "      <th>caramel</th>\n",
       "      <th>peanutyalmondy</th>\n",
       "      <th>nougat</th>\n",
       "      <th>crispedricewafer</th>\n",
       "      <th>hard</th>\n",
       "      <th>bar</th>\n",
       "      <th>pluribus</th>\n",
       "      <th>sugarpercent</th>\n",
       "      <th>pricepercent</th>\n",
       "      <th>winpercent</th>\n",
       "    </tr>\n",
       "  </thead>\n",
       "  <tbody>\n",
       "    <tr>\n",
       "      <th>0</th>\n",
       "      <td>100 Grand</td>\n",
       "      <td>1</td>\n",
       "      <td>0</td>\n",
       "      <td>1</td>\n",
       "      <td>0</td>\n",
       "      <td>0</td>\n",
       "      <td>1</td>\n",
       "      <td>0</td>\n",
       "      <td>1</td>\n",
       "      <td>0</td>\n",
       "      <td>73.199999</td>\n",
       "      <td>86.000001</td>\n",
       "      <td>66.971725</td>\n",
       "    </tr>\n",
       "    <tr>\n",
       "      <th>1</th>\n",
       "      <td>3 Musketeers</td>\n",
       "      <td>1</td>\n",
       "      <td>0</td>\n",
       "      <td>0</td>\n",
       "      <td>0</td>\n",
       "      <td>1</td>\n",
       "      <td>0</td>\n",
       "      <td>0</td>\n",
       "      <td>1</td>\n",
       "      <td>0</td>\n",
       "      <td>60.399997</td>\n",
       "      <td>51.099998</td>\n",
       "      <td>67.602936</td>\n",
       "    </tr>\n",
       "    <tr>\n",
       "      <th>2</th>\n",
       "      <td>One dime</td>\n",
       "      <td>0</td>\n",
       "      <td>0</td>\n",
       "      <td>0</td>\n",
       "      <td>0</td>\n",
       "      <td>0</td>\n",
       "      <td>0</td>\n",
       "      <td>0</td>\n",
       "      <td>0</td>\n",
       "      <td>0</td>\n",
       "      <td>1.100000</td>\n",
       "      <td>11.600000</td>\n",
       "      <td>32.261086</td>\n",
       "    </tr>\n",
       "    <tr>\n",
       "      <th>3</th>\n",
       "      <td>One quarter</td>\n",
       "      <td>0</td>\n",
       "      <td>0</td>\n",
       "      <td>0</td>\n",
       "      <td>0</td>\n",
       "      <td>0</td>\n",
       "      <td>0</td>\n",
       "      <td>0</td>\n",
       "      <td>0</td>\n",
       "      <td>0</td>\n",
       "      <td>1.100000</td>\n",
       "      <td>51.099998</td>\n",
       "      <td>46.116505</td>\n",
       "    </tr>\n",
       "    <tr>\n",
       "      <th>4</th>\n",
       "      <td>Air Heads</td>\n",
       "      <td>0</td>\n",
       "      <td>1</td>\n",
       "      <td>0</td>\n",
       "      <td>0</td>\n",
       "      <td>0</td>\n",
       "      <td>0</td>\n",
       "      <td>0</td>\n",
       "      <td>0</td>\n",
       "      <td>0</td>\n",
       "      <td>90.600002</td>\n",
       "      <td>51.099998</td>\n",
       "      <td>52.341465</td>\n",
       "    </tr>\n",
       "  </tbody>\n",
       "</table>\n",
       "</div>"
      ],
      "text/plain": [
       "  competitorname  chocolate  fruity  caramel  peanutyalmondy  nougat  \\\n",
       "0      100 Grand          1       0        1               0       0   \n",
       "1   3 Musketeers          1       0        0               0       1   \n",
       "2       One dime          0       0        0               0       0   \n",
       "3    One quarter          0       0        0               0       0   \n",
       "4      Air Heads          0       1        0               0       0   \n",
       "\n",
       "   crispedricewafer  hard  bar  pluribus  sugarpercent  pricepercent  \\\n",
       "0                 1     0    1         0     73.199999     86.000001   \n",
       "1                 0     0    1         0     60.399997     51.099998   \n",
       "2                 0     0    0         0      1.100000     11.600000   \n",
       "3                 0     0    0         0      1.100000     51.099998   \n",
       "4                 0     0    0         0     90.600002     51.099998   \n",
       "\n",
       "   winpercent  \n",
       "0   66.971725  \n",
       "1   67.602936  \n",
       "2   32.261086  \n",
       "3   46.116505  \n",
       "4   52.341465  "
      ]
     },
     "execution_count": 12,
     "metadata": {},
     "output_type": "execute_result"
    }
   ],
   "source": [
    "df = pd.read_csv(\"data/candy-data.csv\")\n",
    "df['sugarpercent'] *= 100\n",
    "df['pricepercent'] *= 100\n",
    "df.head()"
   ]
  },
  {
   "cell_type": "code",
   "execution_count": 13,
   "id": "db65bf8373c8310f",
   "metadata": {
    "ExecuteTime": {
     "end_time": "2024-04-02T22:15:53.752749Z",
     "start_time": "2024-04-02T22:15:53.749970Z"
    },
    "collapsed": false,
    "jupyter": {
     "outputs_hidden": false
    }
   },
   "outputs": [],
   "source": [
    "x_col1 = 'pricepercent'\n",
    "x_col2 = 'sugarpercent'\n",
    "y_col  = 'winpercent'"
   ]
  },
  {
   "cell_type": "code",
   "execution_count": 49,
   "id": "326db684dd484a5",
   "metadata": {
    "ExecuteTime": {
     "end_time": "2024-04-02T22:15:54.799052Z",
     "start_time": "2024-04-02T22:15:54.791608Z"
    },
    "collapsed": false,
    "jupyter": {
     "outputs_hidden": false
    }
   },
   "outputs": [],
   "source": [
    "filtered1_df = df.copy()\n",
    "filtered1_df['couleur'] = (2 * (df['winpercent'] > 50).astype(int) + (df[x_col1] > 50).astype(int)).map({0: 'Abordable/Santé &<br>Pas apprécié',1: 'Abordable/Santé &<br>Apprécié', 2: 'Chère/Sucré &<br>Pas apprécié', 3: 'Chère/Sucré &<br>Apprécié'})\n",
    "filtered1_df = filtered1_df.sort_values('couleur', ascending=False)\n",
    "\n",
    "\n",
    "filtered2_df = df.copy()\n",
    "filtered2_df['couleur'] = (2 * (df['winpercent'] > 50).astype(int) + (df[x_col2] > 50).astype(int)).map({0: 'Abordable/Santé &<br>Pas apprécié', 1: 'Abordable/Santé &<br>Apprécié', 2: 'Chère/Sucré &<br>Pas apprécié', 3: 'Chère/Sucré &<br>Apprécié'})\n",
    "filtered2_df = filtered2_df.sort_values('couleur', ascending=False)"
   ]
  },
  {
   "cell_type": "code",
   "execution_count": 15,
   "id": "4c4f34175bc0bfd4",
   "metadata": {
    "ExecuteTime": {
     "end_time": "2024-04-02T22:16:26.037754Z",
     "start_time": "2024-04-02T22:16:26.029522Z"
    },
    "collapsed": false,
    "jupyter": {
     "outputs_hidden": false
    }
   },
   "outputs": [
    {
     "data": {
      "text/html": [
       "<div>\n",
       "<style scoped>\n",
       "    .dataframe tbody tr th:only-of-type {\n",
       "        vertical-align: middle;\n",
       "    }\n",
       "\n",
       "    .dataframe tbody tr th {\n",
       "        vertical-align: top;\n",
       "    }\n",
       "\n",
       "    .dataframe thead th {\n",
       "        text-align: right;\n",
       "    }\n",
       "</style>\n",
       "<table border=\"1\" class=\"dataframe\">\n",
       "  <thead>\n",
       "    <tr style=\"text-align: right;\">\n",
       "      <th></th>\n",
       "      <th>competitorname</th>\n",
       "      <th>chocolate</th>\n",
       "      <th>fruity</th>\n",
       "      <th>caramel</th>\n",
       "      <th>peanutyalmondy</th>\n",
       "      <th>nougat</th>\n",
       "      <th>crispedricewafer</th>\n",
       "      <th>hard</th>\n",
       "      <th>bar</th>\n",
       "      <th>pluribus</th>\n",
       "      <th>sugarpercent</th>\n",
       "      <th>pricepercent</th>\n",
       "      <th>winpercent</th>\n",
       "      <th>couleur</th>\n",
       "    </tr>\n",
       "  </thead>\n",
       "  <tbody>\n",
       "    <tr>\n",
       "      <th>27</th>\n",
       "      <td>Junior Mints</td>\n",
       "      <td>1</td>\n",
       "      <td>0</td>\n",
       "      <td>0</td>\n",
       "      <td>0</td>\n",
       "      <td>0</td>\n",
       "      <td>0</td>\n",
       "      <td>0</td>\n",
       "      <td>0</td>\n",
       "      <td>1</td>\n",
       "      <td>19.700000</td>\n",
       "      <td>51.099998</td>\n",
       "      <td>57.219250</td>\n",
       "      <td>Chère, Pas aimé</td>\n",
       "    </tr>\n",
       "    <tr>\n",
       "      <th>22</th>\n",
       "      <td>Hershey's Kisses</td>\n",
       "      <td>1</td>\n",
       "      <td>0</td>\n",
       "      <td>0</td>\n",
       "      <td>0</td>\n",
       "      <td>0</td>\n",
       "      <td>0</td>\n",
       "      <td>0</td>\n",
       "      <td>0</td>\n",
       "      <td>1</td>\n",
       "      <td>12.700000</td>\n",
       "      <td>9.300000</td>\n",
       "      <td>55.375454</td>\n",
       "      <td>Chère, Pas aimé</td>\n",
       "    </tr>\n",
       "    <tr>\n",
       "      <th>20</th>\n",
       "      <td>Haribo Sour Bears</td>\n",
       "      <td>0</td>\n",
       "      <td>1</td>\n",
       "      <td>0</td>\n",
       "      <td>0</td>\n",
       "      <td>0</td>\n",
       "      <td>0</td>\n",
       "      <td>0</td>\n",
       "      <td>0</td>\n",
       "      <td>1</td>\n",
       "      <td>46.500000</td>\n",
       "      <td>46.500000</td>\n",
       "      <td>51.412430</td>\n",
       "      <td>Chère, Pas aimé</td>\n",
       "    </tr>\n",
       "    <tr>\n",
       "      <th>43</th>\n",
       "      <td>Nestle Crunch</td>\n",
       "      <td>1</td>\n",
       "      <td>0</td>\n",
       "      <td>0</td>\n",
       "      <td>0</td>\n",
       "      <td>0</td>\n",
       "      <td>1</td>\n",
       "      <td>0</td>\n",
       "      <td>1</td>\n",
       "      <td>0</td>\n",
       "      <td>31.299999</td>\n",
       "      <td>76.700002</td>\n",
       "      <td>66.470680</td>\n",
       "      <td>Chère, Pas aimé</td>\n",
       "    </tr>\n",
       "    <tr>\n",
       "      <th>18</th>\n",
       "      <td>Haribo Gold Bears</td>\n",
       "      <td>0</td>\n",
       "      <td>1</td>\n",
       "      <td>0</td>\n",
       "      <td>0</td>\n",
       "      <td>0</td>\n",
       "      <td>0</td>\n",
       "      <td>0</td>\n",
       "      <td>0</td>\n",
       "      <td>1</td>\n",
       "      <td>46.500000</td>\n",
       "      <td>46.500000</td>\n",
       "      <td>57.119740</td>\n",
       "      <td>Chère, Pas aimé</td>\n",
       "    </tr>\n",
       "    <tr>\n",
       "      <th>...</th>\n",
       "      <td>...</td>\n",
       "      <td>...</td>\n",
       "      <td>...</td>\n",
       "      <td>...</td>\n",
       "      <td>...</td>\n",
       "      <td>...</td>\n",
       "      <td>...</td>\n",
       "      <td>...</td>\n",
       "      <td>...</td>\n",
       "      <td>...</td>\n",
       "      <td>...</td>\n",
       "      <td>...</td>\n",
       "      <td>...</td>\n",
       "      <td>...</td>\n",
       "    </tr>\n",
       "    <tr>\n",
       "      <th>16</th>\n",
       "      <td>Fun Dip</td>\n",
       "      <td>0</td>\n",
       "      <td>1</td>\n",
       "      <td>0</td>\n",
       "      <td>0</td>\n",
       "      <td>0</td>\n",
       "      <td>0</td>\n",
       "      <td>1</td>\n",
       "      <td>0</td>\n",
       "      <td>0</td>\n",
       "      <td>73.199999</td>\n",
       "      <td>32.499999</td>\n",
       "      <td>39.185505</td>\n",
       "      <td>Abordable, Aimé</td>\n",
       "    </tr>\n",
       "    <tr>\n",
       "      <th>50</th>\n",
       "      <td>Red vines</td>\n",
       "      <td>0</td>\n",
       "      <td>1</td>\n",
       "      <td>0</td>\n",
       "      <td>0</td>\n",
       "      <td>0</td>\n",
       "      <td>0</td>\n",
       "      <td>0</td>\n",
       "      <td>0</td>\n",
       "      <td>1</td>\n",
       "      <td>58.099997</td>\n",
       "      <td>11.600000</td>\n",
       "      <td>37.348522</td>\n",
       "      <td>Abordable, Aimé</td>\n",
       "    </tr>\n",
       "    <tr>\n",
       "      <th>49</th>\n",
       "      <td>Pop Rocks</td>\n",
       "      <td>0</td>\n",
       "      <td>1</td>\n",
       "      <td>0</td>\n",
       "      <td>0</td>\n",
       "      <td>0</td>\n",
       "      <td>0</td>\n",
       "      <td>1</td>\n",
       "      <td>0</td>\n",
       "      <td>1</td>\n",
       "      <td>60.399997</td>\n",
       "      <td>83.700001</td>\n",
       "      <td>41.265511</td>\n",
       "      <td>Abordable, Aimé</td>\n",
       "    </tr>\n",
       "    <tr>\n",
       "      <th>17</th>\n",
       "      <td>Gobstopper</td>\n",
       "      <td>0</td>\n",
       "      <td>1</td>\n",
       "      <td>0</td>\n",
       "      <td>0</td>\n",
       "      <td>0</td>\n",
       "      <td>0</td>\n",
       "      <td>1</td>\n",
       "      <td>0</td>\n",
       "      <td>1</td>\n",
       "      <td>90.600002</td>\n",
       "      <td>45.300001</td>\n",
       "      <td>46.783348</td>\n",
       "      <td>Abordable, Aimé</td>\n",
       "    </tr>\n",
       "    <tr>\n",
       "      <th>84</th>\n",
       "      <td>Whoppers</td>\n",
       "      <td>1</td>\n",
       "      <td>0</td>\n",
       "      <td>0</td>\n",
       "      <td>0</td>\n",
       "      <td>0</td>\n",
       "      <td>1</td>\n",
       "      <td>0</td>\n",
       "      <td>0</td>\n",
       "      <td>1</td>\n",
       "      <td>87.199998</td>\n",
       "      <td>84.799999</td>\n",
       "      <td>49.524113</td>\n",
       "      <td>Abordable, Aimé</td>\n",
       "    </tr>\n",
       "  </tbody>\n",
       "</table>\n",
       "<p>85 rows × 14 columns</p>\n",
       "</div>"
      ],
      "text/plain": [
       "       competitorname  chocolate  fruity  caramel  peanutyalmondy  nougat  \\\n",
       "27       Junior Mints          1       0        0               0       0   \n",
       "22   Hershey's Kisses          1       0        0               0       0   \n",
       "20  Haribo Sour Bears          0       1        0               0       0   \n",
       "43      Nestle Crunch          1       0        0               0       0   \n",
       "18  Haribo Gold Bears          0       1        0               0       0   \n",
       "..                ...        ...     ...      ...             ...     ...   \n",
       "16            Fun Dip          0       1        0               0       0   \n",
       "50          Red vines          0       1        0               0       0   \n",
       "49          Pop Rocks          0       1        0               0       0   \n",
       "17         Gobstopper          0       1        0               0       0   \n",
       "84           Whoppers          1       0        0               0       0   \n",
       "\n",
       "    crispedricewafer  hard  bar  pluribus  sugarpercent  pricepercent  \\\n",
       "27                 0     0    0         1     19.700000     51.099998   \n",
       "22                 0     0    0         1     12.700000      9.300000   \n",
       "20                 0     0    0         1     46.500000     46.500000   \n",
       "43                 1     0    1         0     31.299999     76.700002   \n",
       "18                 0     0    0         1     46.500000     46.500000   \n",
       "..               ...   ...  ...       ...           ...           ...   \n",
       "16                 0     1    0         0     73.199999     32.499999   \n",
       "50                 0     0    0         1     58.099997     11.600000   \n",
       "49                 0     1    0         1     60.399997     83.700001   \n",
       "17                 0     1    0         1     90.600002     45.300001   \n",
       "84                 1     0    0         1     87.199998     84.799999   \n",
       "\n",
       "    winpercent          couleur  \n",
       "27   57.219250  Chère, Pas aimé  \n",
       "22   55.375454  Chère, Pas aimé  \n",
       "20   51.412430  Chère, Pas aimé  \n",
       "43   66.470680  Chère, Pas aimé  \n",
       "18   57.119740  Chère, Pas aimé  \n",
       "..         ...              ...  \n",
       "16   39.185505  Abordable, Aimé  \n",
       "50   37.348522  Abordable, Aimé  \n",
       "49   41.265511  Abordable, Aimé  \n",
       "17   46.783348  Abordable, Aimé  \n",
       "84   49.524113  Abordable, Aimé  \n",
       "\n",
       "[85 rows x 14 columns]"
      ]
     },
     "execution_count": 15,
     "metadata": {},
     "output_type": "execute_result"
    }
   ],
   "source": [
    "#filtered_df = pd.concat(\n",
    "#    objs=[filtered1_df[['competitorname', y_col, 'x_col', 'type', 'couleur']], filtered2_df[['competitorname', y_col, 'x_col', 'type', 'couleur']]]\n",
    "#)\n",
    "filtered2_df"
   ]
  },
  {
   "cell_type": "code",
   "execution_count": 56,
   "id": "4e78a0f191041264",
   "metadata": {
    "ExecuteTime": {
     "end_time": "2024-04-02T22:16:30.285530Z",
     "start_time": "2024-04-02T22:16:30.063167Z"
    },
    "collapsed": false,
    "jupyter": {
     "outputs_hidden": false
    }
   },
   "outputs": [
    {
     "data": {
      "application/vnd.plotly.v1+json": {
       "config": {
        "plotlyServerURL": "https://plot.ly"
       },
       "data": [
        {
         "hoverinfo": "skip",
         "mode": "text",
         "showlegend": false,
         "text": "<b style=\"color:grey; font-size:1.3em\">Abordable & Apprécié</b>",
         "textfont": {
          "color": "rgba(80,80,80,0.6)"
         },
         "textposition": "middle center",
         "type": "scatter",
         "x": [
          25
         ],
         "xaxis": "x",
         "y": [
          94
         ],
         "yaxis": "y"
        },
        {
         "hoverinfo": "skip",
         "mode": "text",
         "showlegend": false,
         "text": "<b style=\"color:grey; font-size:1.3em\">Abordable & Pas apprécié</b>",
         "textfont": {
          "color": "rgba(80,80,80,0.6)"
         },
         "textposition": "middle center",
         "type": "scatter",
         "x": [
          25
         ],
         "xaxis": "x",
         "y": [
          44
         ],
         "yaxis": "y"
        },
        {
         "hoverinfo": "skip",
         "mode": "text",
         "showlegend": false,
         "text": "<b style=\"color:grey; font-size:1.3em\">Chère & Apprécié</b>",
         "textfont": {
          "color": "rgba(80,80,80,0.6)"
         },
         "textposition": "middle center",
         "type": "scatter",
         "x": [
          75
         ],
         "xaxis": "x",
         "y": [
          94
         ],
         "yaxis": "y"
        },
        {
         "hoverinfo": "skip",
         "mode": "text",
         "showlegend": false,
         "text": "<b style=\"color:grey; font-size:1.3em\">Chère & Pas apprécié</b>",
         "textfont": {
          "color": "rgba(80,80,80,0.6)"
         },
         "textposition": "middle center",
         "type": "scatter",
         "x": [
          75
         ],
         "xaxis": "x",
         "y": [
          44
         ],
         "yaxis": "y"
        },
        {
         "hoverinfo": "skip",
         "mode": "text",
         "showlegend": false,
         "text": "<b style=\"color:grey; font-size:1.3em\">Santé & Apprécié</b>",
         "textfont": {
          "color": "rgba(80,80,80,0.6)"
         },
         "textposition": "middle center",
         "type": "scatter",
         "x": [
          25
         ],
         "xaxis": "x2",
         "y": [
          94
         ],
         "yaxis": "y2"
        },
        {
         "hoverinfo": "skip",
         "mode": "text",
         "showlegend": false,
         "text": "<b style=\"color:grey; font-size:1.3em\">Santé & Pas apprécié</b>",
         "textfont": {
          "color": "rgba(80,80,80,0.6)"
         },
         "textposition": "middle center",
         "type": "scatter",
         "x": [
          25
         ],
         "xaxis": "x2",
         "y": [
          44
         ],
         "yaxis": "y2"
        },
        {
         "hoverinfo": "skip",
         "mode": "text",
         "showlegend": false,
         "text": "<b style=\"color:grey; font-size:1.3em\">Sucré & Apprécié</b>",
         "textfont": {
          "color": "rgba(80,80,80,0.6)"
         },
         "textposition": "middle center",
         "type": "scatter",
         "x": [
          75
         ],
         "xaxis": "x2",
         "y": [
          94
         ],
         "yaxis": "y2"
        },
        {
         "hoverinfo": "skip",
         "mode": "text",
         "showlegend": false,
         "text": "<b style=\"color:grey; font-size:1.3em\">Sucré & Pas apprécié</b>",
         "textfont": {
          "color": "rgba(80,80,80,0.6)"
         },
         "textposition": "middle center",
         "type": "scatter",
         "x": [
          75
         ],
         "xaxis": "x2",
         "y": [
          44
         ],
         "yaxis": "y2"
        },
        {
         "customdata": [
          [
           "Reese's Miniatures"
          ],
          [
           "Milky Way Midnight"
          ],
          [
           "Haribo Sour Bears"
          ],
          [
           "Lifesavers big ring gummies"
          ],
          [
           "Nerds"
          ],
          [
           "Hershey's Kisses"
          ],
          [
           "Skittles original"
          ],
          [
           "Haribo Gold Bears"
          ],
          [
           "Skittles wildberry"
          ],
          [
           "Sour Patch Kids"
          ],
          [
           "Sour Patch Tricksters"
          ],
          [
           "Starburst"
          ]
         ],
         "hovertemplate": "\n<b style=\"font-size: 1.3em\">%{customdata}</b><br>\n%{yaxis.title.text}: %{y}<br>\n%{xaxis.title.text}: %{x}<br>\n<extra></extra>\n",
         "legendgroup": "Chère/Sucré &<br>Pas apprécié",
         "marker": {
          "color": "#1F77B4",
          "symbol": "circle"
         },
         "mode": "markers",
         "name": "Chère/Sucré &<br>Pas apprécié",
         "orientation": "v",
         "showlegend": true,
         "type": "scatter",
         "x": [
          27.900001000000003,
          44.100001,
          46.5,
          27.900001000000003,
          32.499999,
          9.3000002,
          22,
          46.5,
          22,
          11.600000000000001,
          11.600000000000001,
          22
         ],
         "xaxis": "x",
         "y": [
          81.866257,
          60.800701,
          51.41243,
          52.911392,
          55.354046,
          55.375454,
          63.08514,
          57.11974,
          55.103695,
          59.863998,
          52.825947,
          67.037628
         ],
         "yaxis": "y"
        },
        {
         "customdata": [
          [
           "Milky Way"
          ],
          [
           "Milky Way Simply Caramel"
          ],
          [
           "Mr Good Bar"
          ],
          [
           "Milk Duds"
          ],
          [
           "M&M's"
          ],
          [
           "3 Musketeers"
          ],
          [
           "100 Grand"
          ],
          [
           "Nestle Crunch"
          ],
          [
           "Peanut M&Ms"
          ],
          [
           "Reese's Peanut Butter cup"
          ],
          [
           "Reese's pieces"
          ],
          [
           "Reese's stuffed with pieces"
          ],
          [
           "Rolo"
          ],
          [
           "Snickers"
          ],
          [
           "Snickers Crisper"
          ],
          [
           "Swedish Fish"
          ],
          [
           "Twix"
          ],
          [
           "Peanut butter M&M's"
          ],
          [
           "Nestle Butterfinger"
          ],
          [
           "Kit Kat"
          ],
          [
           "Junior Mints"
          ],
          [
           "Hershey's Special Dark"
          ],
          [
           "Hershey's Milk Chocolate"
          ],
          [
           "Hershey's Krackel"
          ],
          [
           "Baby Ruth"
          ],
          [
           "Almond Joy"
          ],
          [
           "Air Heads"
          ]
         ],
         "hovertemplate": "\n<b style=\"font-size: 1.3em\">%{customdata}</b><br>\n%{yaxis.title.text}: %{y}<br>\n%{xaxis.title.text}: %{x}<br>\n<extra></extra>\n",
         "legendgroup": "Chère/Sucré &<br>Apprécié",
         "marker": {
          "color": "#FF7F0E",
          "symbol": "circle"
         },
         "mode": "markers",
         "name": "Chère/Sucré &<br>Apprécié",
         "orientation": "v",
         "showlegend": true,
         "type": "scatter",
         "x": [
          65.100002,
          86.000001,
          91.799998,
          51.099998,
          65.100002,
          51.099998,
          86.000001,
          76.700002,
          65.100002,
          65.100002,
          65.100002,
          65.100002,
          86.000001,
          65.100002,
          65.100002,
          75.5,
          90.600002,
          65.100002,
          76.700002,
          51.099998,
          51.099998,
          91.799998,
          91.799998,
          91.799998,
          76.700002,
          76.700002,
          51.099998
         ],
         "xaxis": "x",
         "y": [
          73.099556,
          64.35334,
          54.526451,
          55.064072,
          66.574585,
          67.602936,
          66.971725,
          66.47068,
          69.483788,
          84.18029,
          73.43499,
          72.887901,
          65.716286,
          76.673782,
          59.529251,
          54.861111,
          81.642914,
          71.46505,
          70.735641,
          76.7686,
          57.21925,
          59.236122,
          56.490501,
          62.284481,
          56.914547,
          50.347546,
          52.341465
         ],
         "yaxis": "y"
        },
        {
         "customdata": [
          [
           "Lemonhead"
          ],
          [
           "Super Bubble"
          ],
          [
           "Caramel Apple Pops"
          ],
          [
           "Smarties candy"
          ],
          [
           "Candy Corn"
          ],
          [
           "Strawberry bon bons"
          ],
          [
           "Sugar Daddy"
          ],
          [
           "Tootsie Roll Snack Bars"
          ],
          [
           "Tootsie Pop"
          ],
          [
           "Tootsie Roll Midgies"
          ],
          [
           "Laffy Taffy"
          ],
          [
           "Trolli Sour Bites"
          ],
          [
           "One dime"
          ],
          [
           "Twizzlers"
          ],
          [
           "Warheads"
          ],
          [
           "Welch's Fruit Snacks"
          ],
          [
           "Werther's Original Caramel"
          ],
          [
           "Sixlets"
          ],
          [
           "Runts"
          ],
          [
           "Root Beer Barrels"
          ],
          [
           "Fruit Chews"
          ],
          [
           "Mike & Ike"
          ],
          [
           "Haribo Twin Snakes"
          ],
          [
           "Haribo Happy Cola"
          ],
          [
           "Gobstopper"
          ],
          [
           "Now & Later"
          ],
          [
           "Fun Dip"
          ],
          [
           "Red vines"
          ],
          [
           "Pixie Sticks"
          ],
          [
           "Dum Dums"
          ],
          [
           "Chiclets"
          ]
         ],
         "hovertemplate": "\n<b style=\"font-size: 1.3em\">%{customdata}</b><br>\n%{yaxis.title.text}: %{y}<br>\n%{xaxis.title.text}: %{x}<br>\n<extra></extra>\n",
         "legendgroup": "Abordable/Santé &<br>Pas apprécié",
         "marker": {
          "color": "#2CA02C",
          "symbol": "circle"
         },
         "mode": "markers",
         "name": "Abordable/Santé &<br>Pas apprécié",
         "orientation": "v",
         "showlegend": true,
         "type": "scatter",
         "x": [
          10.4,
          11.600000000000001,
          32.499999,
          11.600000000000001,
          32.499999,
          5.7999998,
          32.499999,
          32.499999,
          32.499999,
          1.0999999999999999,
          11.600000000000001,
          25.5,
          11.600000000000001,
          11.600000000000001,
          11.600000000000001,
          31.299999,
          26.699999000000002,
          8.1,
          27.900001000000003,
          6.899999800000001,
          3.4000002,
          32.499999,
          46.5,
          46.5,
          45.300001,
          32.499999,
          32.499999,
          11.600000000000001,
          2.3,
          3.4000002,
          32.499999
         ],
         "xaxis": "x",
         "y": [
          39.141056,
          27.303865,
          34.517681,
          45.995827,
          38.010963,
          34.578991,
          32.230995,
          49.653503,
          48.982651,
          45.736748,
          41.389557,
          47.173229,
          32.261086,
          45.466282,
          39.011898,
          44.375519,
          41.904308,
          34.722,
          42.849144,
          29.703691,
          43.088924,
          46.411716,
          42.178772,
          34.158958,
          46.783348,
          39.4468,
          39.185505,
          37.348522,
          37.722336,
          39.460556,
          24.524988
         ],
         "yaxis": "y"
        },
        {
         "customdata": [
          [
           "Nik L Nip"
          ],
          [
           "Charleston Chew"
          ],
          [
           "Jawbusters"
          ],
          [
           "Mounds"
          ],
          [
           "Ring pop"
          ],
          [
           "Nestle Smarties"
          ],
          [
           "Dots"
          ],
          [
           "Pop Rocks"
          ],
          [
           "Tootsie Roll Juniors"
          ],
          [
           "Payday"
          ],
          [
           "One quarter"
          ],
          [
           "Boston Baked Beans"
          ],
          [
           "Chewey Lemonhead Fruit Mix"
          ],
          [
           "Sugar Babies"
          ],
          [
           "Whoppers"
          ]
         ],
         "hovertemplate": "\n<b style=\"font-size: 1.3em\">%{customdata}</b><br>\n%{yaxis.title.text}: %{y}<br>\n%{xaxis.title.text}: %{x}<br>\n<extra></extra>\n",
         "legendgroup": "Abordable/Santé &<br>Apprécié",
         "marker": {
          "color": "#D62728",
          "symbol": "circle"
         },
         "mode": "markers",
         "name": "Abordable/Santé &<br>Apprécié",
         "orientation": "v",
         "showlegend": true,
         "type": "scatter",
         "x": [
          97.600001,
          51.099998,
          51.099998,
          86.000001,
          96.49999700000001,
          97.600001,
          51.099998,
          83.700001,
          51.099998,
          76.700002,
          51.099998,
          51.099998,
          51.099998,
          76.700002,
          84.799999
         ],
         "xaxis": "x",
         "y": [
          22.445341,
          38.975037,
          28.127439,
          47.829754,
          35.290756,
          37.887188,
          42.272076,
          41.265511,
          43.068897,
          46.296597,
          46.116505,
          23.417824,
          36.017628,
          33.43755,
          49.524113
         ],
         "yaxis": "y"
        },
        {
         "customdata": [
          [
           "Junior Mints"
          ],
          [
           "Hershey's Kisses"
          ],
          [
           "Haribo Sour Bears"
          ],
          [
           "Nestle Crunch"
          ],
          [
           "Haribo Gold Bears"
          ],
          [
           "Milk Duds"
          ],
          [
           "Reese's Miniatures"
          ],
          [
           "Hershey's Milk Chocolate"
          ],
          [
           "Reese's pieces"
          ],
          [
           "Hershey's Special Dark"
          ],
          [
           "Hershey's Krackel"
          ],
          [
           "Kit Kat"
          ],
          [
           "Mr Good Bar"
          ],
          [
           "Sour Patch Kids"
          ],
          [
           "Sour Patch Tricksters"
          ],
          [
           "Almond Joy"
          ],
          [
           "Starburst"
          ],
          [
           "Lifesavers big ring gummies"
          ]
         ],
         "hovertemplate": "\n<b style=\"font-size: 1.3em\">%{customdata}</b><br>\n%{yaxis.title.text}: %{y}<br>\n%{xaxis.title.text}: %{x}<br>\n<extra></extra>\n",
         "legendgroup": "Chère/Sucré &<br>Pas apprécié",
         "marker": {
          "color": "#1F77B4",
          "symbol": "circle"
         },
         "mode": "markers",
         "name": "Chère/Sucré &<br>Pas apprécié",
         "orientation": "v",
         "showlegend": false,
         "type": "scatter",
         "x": [
          19.7,
          12.7,
          46.5,
          31.299999,
          46.5,
          30.199999,
          3.4000002,
          43.000001,
          40.599999,
          43.000001,
          43.000001,
          31.299999,
          31.299999,
          6.899999800000001,
          6.899999800000001,
          46.5,
          15.099999,
          26.699999000000002
         ],
         "xaxis": "x2",
         "y": [
          57.21925,
          55.375454,
          51.41243,
          66.47068,
          57.11974,
          55.064072,
          81.866257,
          56.490501,
          73.43499,
          59.236122,
          62.284481,
          76.7686,
          54.526451,
          59.863998,
          52.825947,
          50.347546,
          67.037628,
          52.911392
         ],
         "yaxis": "y2"
        },
        {
         "customdata": [
          [
           "Nerds"
          ],
          [
           "Milky Way Simply Caramel"
          ],
          [
           "Milky Way Midnight"
          ],
          [
           "100 Grand"
          ],
          [
           "Peanut M&Ms"
          ],
          [
           "3 Musketeers"
          ],
          [
           "Reese's Peanut Butter cup"
          ],
          [
           "Reese's stuffed with pieces"
          ],
          [
           "Rolo"
          ],
          [
           "Skittles original"
          ],
          [
           "Skittles wildberry"
          ],
          [
           "Snickers"
          ],
          [
           "Snickers Crisper"
          ],
          [
           "Swedish Fish"
          ],
          [
           "Twix"
          ],
          [
           "Milky Way"
          ],
          [
           "Nestle Butterfinger"
          ],
          [
           "M&M's"
          ],
          [
           "Peanut butter M&M's"
          ],
          [
           "Air Heads"
          ],
          [
           "Baby Ruth"
          ]
         ],
         "hovertemplate": "\n<b style=\"font-size: 1.3em\">%{customdata}</b><br>\n%{yaxis.title.text}: %{y}<br>\n%{xaxis.title.text}: %{x}<br>\n<extra></extra>\n",
         "legendgroup": "Chère/Sucré &<br>Apprécié",
         "marker": {
          "color": "#FF7F0E",
          "symbol": "circle"
         },
         "mode": "markers",
         "name": "Chère/Sucré &<br>Apprécié",
         "orientation": "v",
         "showlegend": false,
         "type": "scatter",
         "x": [
          84.799999,
          96.49999700000001,
          73.199999,
          73.199999,
          59.299999,
          60.399997000000006,
          72.000003,
          98.799998,
          86.000001,
          94.099998,
          94.099998,
          54.6,
          60.399997000000006,
          60.399997000000006,
          54.6,
          60.399997000000006,
          60.399997000000006,
          82.499999,
          82.499999,
          90.600002,
          60.399997000000006
         ],
         "xaxis": "x2",
         "y": [
          55.354046,
          64.35334,
          60.800701,
          66.971725,
          69.483788,
          67.602936,
          84.18029,
          72.887901,
          65.716286,
          63.08514,
          55.103695,
          76.673782,
          59.529251,
          54.861111,
          81.642914,
          73.099556,
          70.735641,
          66.574585,
          71.46505,
          52.341465,
          56.914547
         ],
         "yaxis": "y2"
        },
        {
         "customdata": [
          [
           "Fruit Chews"
          ],
          [
           "Tootsie Roll Snack Bars"
          ],
          [
           "Chiclets"
          ],
          [
           "Tootsie Roll Midgies"
          ],
          [
           "Tootsie Roll Juniors"
          ],
          [
           "Sixlets"
          ],
          [
           "Smarties candy"
          ],
          [
           "Nestle Smarties"
          ],
          [
           "One dime"
          ],
          [
           "One quarter"
          ],
          [
           "Super Bubble"
          ],
          [
           "Boston Baked Beans"
          ],
          [
           "Trolli Sour Bites"
          ],
          [
           "Sugar Daddy"
          ],
          [
           "Lemonhead"
          ],
          [
           "Warheads"
          ],
          [
           "Welch's Fruit Snacks"
          ],
          [
           "Pixie Sticks"
          ],
          [
           "Werther's Original Caramel"
          ],
          [
           "Payday"
          ],
          [
           "Now & Later"
          ],
          [
           "Twizzlers"
          ],
          [
           "Nik L Nip"
          ],
          [
           "Haribo Happy Cola"
          ],
          [
           "Haribo Twin Snakes"
          ],
          [
           "Jawbusters"
          ],
          [
           "Laffy Taffy"
          ],
          [
           "Mounds"
          ]
         ],
         "hovertemplate": "\n<b style=\"font-size: 1.3em\">%{customdata}</b><br>\n%{yaxis.title.text}: %{y}<br>\n%{xaxis.title.text}: %{x}<br>\n<extra></extra>\n",
         "legendgroup": "Abordable/Santé &<br>Pas apprécié",
         "marker": {
          "color": "#2CA02C",
          "symbol": "circle"
         },
         "mode": "markers",
         "name": "Abordable/Santé &<br>Pas apprécié",
         "orientation": "v",
         "showlegend": false,
         "type": "scatter",
         "x": [
          12.7,
          46.5,
          4.6,
          17.399999,
          31.299999,
          22,
          26.699999000000002,
          26.699999000000002,
          1.0999999999999999,
          1.0999999999999999,
          16.2,
          31.299999,
          31.299999,
          41.800000999999995,
          4.6,
          9.3000002,
          31.299999,
          9.3000002,
          18.6,
          46.5,
          22,
          22,
          19.7,
          46.5,
          46.5,
          9.3000002,
          22,
          31.299999
         ],
         "xaxis": "x2",
         "y": [
          43.088924,
          49.653503,
          24.524988,
          45.736748,
          43.068897,
          34.722,
          45.995827,
          37.887188,
          32.261086,
          46.116505,
          27.303865,
          23.417824,
          47.173229,
          32.230995,
          39.141056,
          39.011898,
          44.375519,
          37.722336,
          41.904308,
          46.296597,
          39.4468,
          45.466282,
          22.445341,
          34.158958,
          42.178772,
          28.127439,
          41.389557,
          47.829754
         ],
         "yaxis": "y2"
        },
        {
         "customdata": [
          [
           "Sugar Babies"
          ],
          [
           "Tootsie Pop"
          ],
          [
           "Mike & Ike"
          ],
          [
           "Chewey Lemonhead Fruit Mix"
          ],
          [
           "Strawberry bon bons"
          ],
          [
           "Candy Corn"
          ],
          [
           "Caramel Apple Pops"
          ],
          [
           "Charleston Chew"
          ],
          [
           "Runts"
          ],
          [
           "Root Beer Barrels"
          ],
          [
           "Ring pop"
          ],
          [
           "Dots"
          ],
          [
           "Dum Dums"
          ],
          [
           "Fun Dip"
          ],
          [
           "Red vines"
          ],
          [
           "Pop Rocks"
          ],
          [
           "Gobstopper"
          ],
          [
           "Whoppers"
          ]
         ],
         "hovertemplate": "\n<b style=\"font-size: 1.3em\">%{customdata}</b><br>\n%{yaxis.title.text}: %{y}<br>\n%{xaxis.title.text}: %{x}<br>\n<extra></extra>\n",
         "legendgroup": "Abordable/Santé &<br>Apprécié",
         "marker": {
          "color": "#D62728",
          "symbol": "circle"
         },
         "mode": "markers",
         "name": "Abordable/Santé &<br>Apprécié",
         "orientation": "v",
         "showlegend": false,
         "type": "scatter",
         "x": [
          96.49999700000001,
          60.399997000000006,
          87.199998,
          73.199999,
          56.900001,
          90.600002,
          60.399997000000006,
          60.399997000000006,
          87.199998,
          73.199999,
          73.199999,
          73.199999,
          73.199999,
          73.199999,
          58.099997,
          60.399997000000006,
          90.600002,
          87.199998
         ],
         "xaxis": "x2",
         "y": [
          33.43755,
          48.982651,
          46.411716,
          36.017628,
          34.578991,
          38.010963,
          34.517681,
          38.975037,
          42.849144,
          29.703691,
          35.290756,
          42.272076,
          39.460556,
          39.185505,
          37.348522,
          41.265511,
          46.783348,
          49.524113
         ],
         "yaxis": "y2"
        }
       ],
       "layout": {
        "autosize": true,
        "legend": {
         "itemsizing": "constant",
         "orientation": "h",
         "title": {
          "text": ""
         },
         "tracegroupgap": 0,
         "x": 0.5,
         "xanchor": "center",
         "y": 1.03,
         "yanchor": "bottom"
        },
        "shapes": [
         {
          "layer": "below",
          "line": {
           "color": "grey",
           "width": 2
          },
          "type": "line",
          "x0": 50,
          "x1": 50,
          "xref": "x",
          "y0": 0,
          "y1": 1,
          "yref": "y domain"
         },
         {
          "layer": "below",
          "line": {
           "color": "grey",
           "width": 2
          },
          "type": "line",
          "x0": 50,
          "x1": 50,
          "xref": "x2",
          "y0": 0,
          "y1": 1,
          "yref": "y2 domain"
         },
         {
          "layer": "below",
          "line": {
           "color": "grey",
           "width": 2
          },
          "type": "line",
          "x0": 0,
          "x1": 1,
          "xref": "x domain",
          "y0": 50,
          "y1": 50,
          "yref": "y"
         },
         {
          "layer": "below",
          "line": {
           "color": "grey",
           "width": 2
          },
          "type": "line",
          "x0": 0,
          "x1": 1,
          "xref": "x2 domain",
          "y0": 50,
          "y1": 50,
          "yref": "y2"
         }
        ],
        "template": {
         "data": {
          "bar": [
           {
            "error_x": {
             "color": "rgb(36,36,36)"
            },
            "error_y": {
             "color": "rgb(36,36,36)"
            },
            "marker": {
             "line": {
              "color": "white",
              "width": 0.5
             },
             "pattern": {
              "fillmode": "overlay",
              "size": 10,
              "solidity": 0.2
             }
            },
            "type": "bar"
           }
          ],
          "barpolar": [
           {
            "marker": {
             "line": {
              "color": "white",
              "width": 0.5
             },
             "pattern": {
              "fillmode": "overlay",
              "size": 10,
              "solidity": 0.2
             }
            },
            "type": "barpolar"
           }
          ],
          "carpet": [
           {
            "aaxis": {
             "endlinecolor": "rgb(36,36,36)",
             "gridcolor": "white",
             "linecolor": "white",
             "minorgridcolor": "white",
             "startlinecolor": "rgb(36,36,36)"
            },
            "baxis": {
             "endlinecolor": "rgb(36,36,36)",
             "gridcolor": "white",
             "linecolor": "white",
             "minorgridcolor": "white",
             "startlinecolor": "rgb(36,36,36)"
            },
            "type": "carpet"
           }
          ],
          "choropleth": [
           {
            "colorbar": {
             "outlinewidth": 1,
             "tickcolor": "rgb(36,36,36)",
             "ticks": "outside"
            },
            "type": "choropleth"
           }
          ],
          "contour": [
           {
            "colorbar": {
             "outlinewidth": 1,
             "tickcolor": "rgb(36,36,36)",
             "ticks": "outside"
            },
            "colorscale": [
             [
              0,
              "#440154"
             ],
             [
              0.1111111111111111,
              "#482878"
             ],
             [
              0.2222222222222222,
              "#3e4989"
             ],
             [
              0.3333333333333333,
              "#31688e"
             ],
             [
              0.4444444444444444,
              "#26828e"
             ],
             [
              0.5555555555555556,
              "#1f9e89"
             ],
             [
              0.6666666666666666,
              "#35b779"
             ],
             [
              0.7777777777777778,
              "#6ece58"
             ],
             [
              0.8888888888888888,
              "#b5de2b"
             ],
             [
              1,
              "#fde725"
             ]
            ],
            "type": "contour"
           }
          ],
          "contourcarpet": [
           {
            "colorbar": {
             "outlinewidth": 1,
             "tickcolor": "rgb(36,36,36)",
             "ticks": "outside"
            },
            "type": "contourcarpet"
           }
          ],
          "heatmap": [
           {
            "colorbar": {
             "outlinewidth": 1,
             "tickcolor": "rgb(36,36,36)",
             "ticks": "outside"
            },
            "colorscale": [
             [
              0,
              "#440154"
             ],
             [
              0.1111111111111111,
              "#482878"
             ],
             [
              0.2222222222222222,
              "#3e4989"
             ],
             [
              0.3333333333333333,
              "#31688e"
             ],
             [
              0.4444444444444444,
              "#26828e"
             ],
             [
              0.5555555555555556,
              "#1f9e89"
             ],
             [
              0.6666666666666666,
              "#35b779"
             ],
             [
              0.7777777777777778,
              "#6ece58"
             ],
             [
              0.8888888888888888,
              "#b5de2b"
             ],
             [
              1,
              "#fde725"
             ]
            ],
            "type": "heatmap"
           }
          ],
          "heatmapgl": [
           {
            "colorbar": {
             "outlinewidth": 1,
             "tickcolor": "rgb(36,36,36)",
             "ticks": "outside"
            },
            "colorscale": [
             [
              0,
              "#440154"
             ],
             [
              0.1111111111111111,
              "#482878"
             ],
             [
              0.2222222222222222,
              "#3e4989"
             ],
             [
              0.3333333333333333,
              "#31688e"
             ],
             [
              0.4444444444444444,
              "#26828e"
             ],
             [
              0.5555555555555556,
              "#1f9e89"
             ],
             [
              0.6666666666666666,
              "#35b779"
             ],
             [
              0.7777777777777778,
              "#6ece58"
             ],
             [
              0.8888888888888888,
              "#b5de2b"
             ],
             [
              1,
              "#fde725"
             ]
            ],
            "type": "heatmapgl"
           }
          ],
          "histogram": [
           {
            "marker": {
             "line": {
              "color": "white",
              "width": 0.6
             }
            },
            "type": "histogram"
           }
          ],
          "histogram2d": [
           {
            "colorbar": {
             "outlinewidth": 1,
             "tickcolor": "rgb(36,36,36)",
             "ticks": "outside"
            },
            "colorscale": [
             [
              0,
              "#440154"
             ],
             [
              0.1111111111111111,
              "#482878"
             ],
             [
              0.2222222222222222,
              "#3e4989"
             ],
             [
              0.3333333333333333,
              "#31688e"
             ],
             [
              0.4444444444444444,
              "#26828e"
             ],
             [
              0.5555555555555556,
              "#1f9e89"
             ],
             [
              0.6666666666666666,
              "#35b779"
             ],
             [
              0.7777777777777778,
              "#6ece58"
             ],
             [
              0.8888888888888888,
              "#b5de2b"
             ],
             [
              1,
              "#fde725"
             ]
            ],
            "type": "histogram2d"
           }
          ],
          "histogram2dcontour": [
           {
            "colorbar": {
             "outlinewidth": 1,
             "tickcolor": "rgb(36,36,36)",
             "ticks": "outside"
            },
            "colorscale": [
             [
              0,
              "#440154"
             ],
             [
              0.1111111111111111,
              "#482878"
             ],
             [
              0.2222222222222222,
              "#3e4989"
             ],
             [
              0.3333333333333333,
              "#31688e"
             ],
             [
              0.4444444444444444,
              "#26828e"
             ],
             [
              0.5555555555555556,
              "#1f9e89"
             ],
             [
              0.6666666666666666,
              "#35b779"
             ],
             [
              0.7777777777777778,
              "#6ece58"
             ],
             [
              0.8888888888888888,
              "#b5de2b"
             ],
             [
              1,
              "#fde725"
             ]
            ],
            "type": "histogram2dcontour"
           }
          ],
          "mesh3d": [
           {
            "colorbar": {
             "outlinewidth": 1,
             "tickcolor": "rgb(36,36,36)",
             "ticks": "outside"
            },
            "type": "mesh3d"
           }
          ],
          "parcoords": [
           {
            "line": {
             "colorbar": {
              "outlinewidth": 1,
              "tickcolor": "rgb(36,36,36)",
              "ticks": "outside"
             }
            },
            "type": "parcoords"
           }
          ],
          "pie": [
           {
            "automargin": true,
            "type": "pie"
           }
          ],
          "scatter": [
           {
            "fillpattern": {
             "fillmode": "overlay",
             "size": 10,
             "solidity": 0.2
            },
            "type": "scatter"
           }
          ],
          "scatter3d": [
           {
            "line": {
             "colorbar": {
              "outlinewidth": 1,
              "tickcolor": "rgb(36,36,36)",
              "ticks": "outside"
             }
            },
            "marker": {
             "colorbar": {
              "outlinewidth": 1,
              "tickcolor": "rgb(36,36,36)",
              "ticks": "outside"
             }
            },
            "type": "scatter3d"
           }
          ],
          "scattercarpet": [
           {
            "marker": {
             "colorbar": {
              "outlinewidth": 1,
              "tickcolor": "rgb(36,36,36)",
              "ticks": "outside"
             }
            },
            "type": "scattercarpet"
           }
          ],
          "scattergeo": [
           {
            "marker": {
             "colorbar": {
              "outlinewidth": 1,
              "tickcolor": "rgb(36,36,36)",
              "ticks": "outside"
             }
            },
            "type": "scattergeo"
           }
          ],
          "scattergl": [
           {
            "marker": {
             "colorbar": {
              "outlinewidth": 1,
              "tickcolor": "rgb(36,36,36)",
              "ticks": "outside"
             }
            },
            "type": "scattergl"
           }
          ],
          "scattermapbox": [
           {
            "marker": {
             "colorbar": {
              "outlinewidth": 1,
              "tickcolor": "rgb(36,36,36)",
              "ticks": "outside"
             }
            },
            "type": "scattermapbox"
           }
          ],
          "scatterpolar": [
           {
            "marker": {
             "colorbar": {
              "outlinewidth": 1,
              "tickcolor": "rgb(36,36,36)",
              "ticks": "outside"
             }
            },
            "type": "scatterpolar"
           }
          ],
          "scatterpolargl": [
           {
            "marker": {
             "colorbar": {
              "outlinewidth": 1,
              "tickcolor": "rgb(36,36,36)",
              "ticks": "outside"
             }
            },
            "type": "scatterpolargl"
           }
          ],
          "scatterternary": [
           {
            "marker": {
             "colorbar": {
              "outlinewidth": 1,
              "tickcolor": "rgb(36,36,36)",
              "ticks": "outside"
             }
            },
            "type": "scatterternary"
           }
          ],
          "surface": [
           {
            "colorbar": {
             "outlinewidth": 1,
             "tickcolor": "rgb(36,36,36)",
             "ticks": "outside"
            },
            "colorscale": [
             [
              0,
              "#440154"
             ],
             [
              0.1111111111111111,
              "#482878"
             ],
             [
              0.2222222222222222,
              "#3e4989"
             ],
             [
              0.3333333333333333,
              "#31688e"
             ],
             [
              0.4444444444444444,
              "#26828e"
             ],
             [
              0.5555555555555556,
              "#1f9e89"
             ],
             [
              0.6666666666666666,
              "#35b779"
             ],
             [
              0.7777777777777778,
              "#6ece58"
             ],
             [
              0.8888888888888888,
              "#b5de2b"
             ],
             [
              1,
              "#fde725"
             ]
            ],
            "type": "surface"
           }
          ],
          "table": [
           {
            "cells": {
             "fill": {
              "color": "rgb(237,237,237)"
             },
             "line": {
              "color": "white"
             }
            },
            "header": {
             "fill": {
              "color": "rgb(217,217,217)"
             },
             "line": {
              "color": "white"
             }
            },
            "type": "table"
           }
          ]
         },
         "layout": {
          "annotationdefaults": {
           "arrowhead": 0,
           "arrowwidth": 1
          },
          "autotypenumbers": "strict",
          "coloraxis": {
           "colorbar": {
            "outlinewidth": 1,
            "tickcolor": "rgb(36,36,36)",
            "ticks": "outside"
           }
          },
          "colorscale": {
           "diverging": [
            [
             0,
             "rgb(103,0,31)"
            ],
            [
             0.1,
             "rgb(178,24,43)"
            ],
            [
             0.2,
             "rgb(214,96,77)"
            ],
            [
             0.3,
             "rgb(244,165,130)"
            ],
            [
             0.4,
             "rgb(253,219,199)"
            ],
            [
             0.5,
             "rgb(247,247,247)"
            ],
            [
             0.6,
             "rgb(209,229,240)"
            ],
            [
             0.7,
             "rgb(146,197,222)"
            ],
            [
             0.8,
             "rgb(67,147,195)"
            ],
            [
             0.9,
             "rgb(33,102,172)"
            ],
            [
             1,
             "rgb(5,48,97)"
            ]
           ],
           "sequential": [
            [
             0,
             "#440154"
            ],
            [
             0.1111111111111111,
             "#482878"
            ],
            [
             0.2222222222222222,
             "#3e4989"
            ],
            [
             0.3333333333333333,
             "#31688e"
            ],
            [
             0.4444444444444444,
             "#26828e"
            ],
            [
             0.5555555555555556,
             "#1f9e89"
            ],
            [
             0.6666666666666666,
             "#35b779"
            ],
            [
             0.7777777777777778,
             "#6ece58"
            ],
            [
             0.8888888888888888,
             "#b5de2b"
            ],
            [
             1,
             "#fde725"
            ]
           ],
           "sequentialminus": [
            [
             0,
             "#440154"
            ],
            [
             0.1111111111111111,
             "#482878"
            ],
            [
             0.2222222222222222,
             "#3e4989"
            ],
            [
             0.3333333333333333,
             "#31688e"
            ],
            [
             0.4444444444444444,
             "#26828e"
            ],
            [
             0.5555555555555556,
             "#1f9e89"
            ],
            [
             0.6666666666666666,
             "#35b779"
            ],
            [
             0.7777777777777778,
             "#6ece58"
            ],
            [
             0.8888888888888888,
             "#b5de2b"
            ],
            [
             1,
             "#fde725"
            ]
           ]
          },
          "colorway": [
           "#1F77B4",
           "#FF7F0E",
           "#2CA02C",
           "#D62728",
           "#9467BD",
           "#8C564B",
           "#E377C2",
           "#7F7F7F",
           "#BCBD22",
           "#17BECF"
          ],
          "font": {
           "color": "rgb(36,36,36)"
          },
          "geo": {
           "bgcolor": "white",
           "lakecolor": "white",
           "landcolor": "white",
           "showlakes": true,
           "showland": true,
           "subunitcolor": "white"
          },
          "hoverlabel": {
           "align": "left"
          },
          "hovermode": "closest",
          "mapbox": {
           "style": "light"
          },
          "paper_bgcolor": "white",
          "plot_bgcolor": "white",
          "polar": {
           "angularaxis": {
            "gridcolor": "rgb(232,232,232)",
            "linecolor": "rgb(36,36,36)",
            "showgrid": false,
            "showline": true,
            "ticks": "outside"
           },
           "bgcolor": "white",
           "radialaxis": {
            "gridcolor": "rgb(232,232,232)",
            "linecolor": "rgb(36,36,36)",
            "showgrid": false,
            "showline": true,
            "ticks": "outside"
           }
          },
          "scene": {
           "xaxis": {
            "backgroundcolor": "white",
            "gridcolor": "rgb(232,232,232)",
            "gridwidth": 2,
            "linecolor": "rgb(36,36,36)",
            "showbackground": true,
            "showgrid": false,
            "showline": true,
            "ticks": "outside",
            "zeroline": false,
            "zerolinecolor": "rgb(36,36,36)"
           },
           "yaxis": {
            "backgroundcolor": "white",
            "gridcolor": "rgb(232,232,232)",
            "gridwidth": 2,
            "linecolor": "rgb(36,36,36)",
            "showbackground": true,
            "showgrid": false,
            "showline": true,
            "ticks": "outside",
            "zeroline": false,
            "zerolinecolor": "rgb(36,36,36)"
           },
           "zaxis": {
            "backgroundcolor": "white",
            "gridcolor": "rgb(232,232,232)",
            "gridwidth": 2,
            "linecolor": "rgb(36,36,36)",
            "showbackground": true,
            "showgrid": false,
            "showline": true,
            "ticks": "outside",
            "zeroline": false,
            "zerolinecolor": "rgb(36,36,36)"
           }
          },
          "shapedefaults": {
           "fillcolor": "black",
           "line": {
            "width": 0
           },
           "opacity": 0.3
          },
          "ternary": {
           "aaxis": {
            "gridcolor": "rgb(232,232,232)",
            "linecolor": "rgb(36,36,36)",
            "showgrid": false,
            "showline": true,
            "ticks": "outside"
           },
           "baxis": {
            "gridcolor": "rgb(232,232,232)",
            "linecolor": "rgb(36,36,36)",
            "showgrid": false,
            "showline": true,
            "ticks": "outside"
           },
           "bgcolor": "white",
           "caxis": {
            "gridcolor": "rgb(232,232,232)",
            "linecolor": "rgb(36,36,36)",
            "showgrid": false,
            "showline": true,
            "ticks": "outside"
           }
          },
          "title": {
           "x": 0.05
          },
          "xaxis": {
           "automargin": true,
           "gridcolor": "rgb(232,232,232)",
           "linecolor": "rgb(36,36,36)",
           "showgrid": false,
           "showline": true,
           "ticks": "outside",
           "title": {
            "standoff": 15
           },
           "zeroline": false,
           "zerolinecolor": "rgb(36,36,36)"
          },
          "yaxis": {
           "automargin": true,
           "gridcolor": "rgb(232,232,232)",
           "linecolor": "rgb(36,36,36)",
           "showgrid": false,
           "showline": true,
           "ticks": "outside",
           "title": {
            "standoff": 15
           },
           "zeroline": false,
           "zerolinecolor": "rgb(36,36,36)"
          }
         }
        },
        "xaxis": {
         "anchor": "y",
         "domain": [
          0,
          0.49
         ],
         "range": [
          0,
          100
         ],
         "title": {
          "text": "Prix relatif (%)"
         },
         "type": "linear"
        },
        "xaxis2": {
         "anchor": "y2",
         "domain": [
          0.51,
          1
         ],
         "matches": "x",
         "range": [
          0,
          100
         ],
         "title": {
          "text": "Proportion de sucre (%)"
         },
         "type": "linear"
        },
        "yaxis": {
         "anchor": "x",
         "domain": [
          0,
          1
         ],
         "range": [
          0,
          100
         ],
         "title": {
          "text": "Appréciation (%)"
         },
         "type": "linear"
        },
        "yaxis2": {
         "anchor": "x2",
         "domain": [
          0,
          1
         ],
         "matches": "y",
         "range": [
          0,
          100
         ],
         "showticklabels": false,
         "type": "linear"
        }
       }
      },
      "image/png": "[encoded data removed]",
      "text/html": [
       "<div>                            <div id=\"6fb76ef4-8907-4185-9881-f54327e92dba\" class=\"plotly-graph-div\" style=\"height:525px; width:100%;\"></div>            <script type=\"text/javascript\">                require([\"plotly\"], function(Plotly) {                    window.PLOTLYENV=window.PLOTLYENV || {};                                    if (document.getElementById(\"6fb76ef4-8907-4185-9881-f54327e92dba\")) {                    Plotly.newPlot(                        \"6fb76ef4-8907-4185-9881-f54327e92dba\",                        [{\"mode\":\"text\",\"showlegend\":false,\"text\":\"\\u003cb style=\\\"color:grey; font-size:1.3em\\\"\\u003eAbordable & Appr\\u00e9ci\\u00e9\\u003c\\u002fb\\u003e\",\"textfont\":{\"color\":\"rgba(80,80,80,0.6)\"},\"textposition\":\"middle center\",\"x\":[25],\"xaxis\":\"x\",\"y\":[94],\"yaxis\":\"y\",\"type\":\"scatter\",\"hoverinfo\":\"skip\"},{\"mode\":\"text\",\"showlegend\":false,\"text\":\"\\u003cb style=\\\"color:grey; font-size:1.3em\\\"\\u003eAbordable & Pas appr\\u00e9ci\\u00e9\\u003c\\u002fb\\u003e\",\"textfont\":{\"color\":\"rgba(80,80,80,0.6)\"},\"textposition\":\"middle center\",\"x\":[25],\"xaxis\":\"x\",\"y\":[44],\"yaxis\":\"y\",\"type\":\"scatter\",\"hoverinfo\":\"skip\"},{\"mode\":\"text\",\"showlegend\":false,\"text\":\"\\u003cb style=\\\"color:grey; font-size:1.3em\\\"\\u003eCh\\u00e8re & Appr\\u00e9ci\\u00e9\\u003c\\u002fb\\u003e\",\"textfont\":{\"color\":\"rgba(80,80,80,0.6)\"},\"textposition\":\"middle center\",\"x\":[75],\"xaxis\":\"x\",\"y\":[94],\"yaxis\":\"y\",\"type\":\"scatter\",\"hoverinfo\":\"skip\"},{\"mode\":\"text\",\"showlegend\":false,\"text\":\"\\u003cb style=\\\"color:grey; font-size:1.3em\\\"\\u003eCh\\u00e8re & Pas appr\\u00e9ci\\u00e9\\u003c\\u002fb\\u003e\",\"textfont\":{\"color\":\"rgba(80,80,80,0.6)\"},\"textposition\":\"middle center\",\"x\":[75],\"xaxis\":\"x\",\"y\":[44],\"yaxis\":\"y\",\"type\":\"scatter\",\"hoverinfo\":\"skip\"},{\"mode\":\"text\",\"showlegend\":false,\"text\":\"\\u003cb style=\\\"color:grey; font-size:1.3em\\\"\\u003eSant\\u00e9 & Appr\\u00e9ci\\u00e9\\u003c\\u002fb\\u003e\",\"textfont\":{\"color\":\"rgba(80,80,80,0.6)\"},\"textposition\":\"middle center\",\"x\":[25],\"xaxis\":\"x2\",\"y\":[94],\"yaxis\":\"y2\",\"type\":\"scatter\",\"hoverinfo\":\"skip\"},{\"mode\":\"text\",\"showlegend\":false,\"text\":\"\\u003cb style=\\\"color:grey; font-size:1.3em\\\"\\u003eSant\\u00e9 & Pas appr\\u00e9ci\\u00e9\\u003c\\u002fb\\u003e\",\"textfont\":{\"color\":\"rgba(80,80,80,0.6)\"},\"textposition\":\"middle center\",\"x\":[25],\"xaxis\":\"x2\",\"y\":[44],\"yaxis\":\"y2\",\"type\":\"scatter\",\"hoverinfo\":\"skip\"},{\"mode\":\"text\",\"showlegend\":false,\"text\":\"\\u003cb style=\\\"color:grey; font-size:1.3em\\\"\\u003eSucr\\u00e9 & Appr\\u00e9ci\\u00e9\\u003c\\u002fb\\u003e\",\"textfont\":{\"color\":\"rgba(80,80,80,0.6)\"},\"textposition\":\"middle center\",\"x\":[75],\"xaxis\":\"x2\",\"y\":[94],\"yaxis\":\"y2\",\"type\":\"scatter\",\"hoverinfo\":\"skip\"},{\"mode\":\"text\",\"showlegend\":false,\"text\":\"\\u003cb style=\\\"color:grey; font-size:1.3em\\\"\\u003eSucr\\u00e9 & Pas appr\\u00e9ci\\u00e9\\u003c\\u002fb\\u003e\",\"textfont\":{\"color\":\"rgba(80,80,80,0.6)\"},\"textposition\":\"middle center\",\"x\":[75],\"xaxis\":\"x2\",\"y\":[44],\"yaxis\":\"y2\",\"type\":\"scatter\",\"hoverinfo\":\"skip\"},{\"customdata\":[[\"Reese's Miniatures\"],[\"Milky Way Midnight\"],[\"Haribo Sour Bears\"],[\"Lifesavers big ring gummies\"],[\"Nerds\"],[\"Hershey's Kisses\"],[\"Skittles original\"],[\"Haribo Gold Bears\"],[\"Skittles wildberry\"],[\"Sour Patch Kids\"],[\"Sour Patch Tricksters\"],[\"Starburst\"]],\"hovertemplate\":\"\\n\\u003cb style=\\\"font-size: 1.3em\\\"\\u003e%{customdata}\\u003c\\u002fb\\u003e\\u003cbr\\u003e\\n%{yaxis.title.text}: %{y}\\u003cbr\\u003e\\n%{xaxis.title.text}: %{x}\\u003cbr\\u003e\\n\\u003cextra\\u003e\\u003c\\u002fextra\\u003e\\n\",\"legendgroup\":\"Ch\\u00e8re\\u002fSucr\\u00e9 &\\u003cbr\\u003ePas appr\\u00e9ci\\u00e9\",\"marker\":{\"color\":\"#1F77B4\",\"symbol\":\"circle\"},\"mode\":\"markers\",\"name\":\"Ch\\u00e8re\\u002fSucr\\u00e9 &\\u003cbr\\u003ePas appr\\u00e9ci\\u00e9\",\"orientation\":\"v\",\"showlegend\":true,\"x\":[27.900001000000003,44.100001,46.5,27.900001000000003,32.499999,9.3000002,22.0,46.5,22.0,11.600000000000001,11.600000000000001,22.0],\"xaxis\":\"x\",\"y\":[81.866257,60.800701,51.41243,52.911392,55.354046,55.375454,63.08514,57.11974,55.103695,59.863998,52.825947,67.037628],\"yaxis\":\"y\",\"type\":\"scatter\"},{\"customdata\":[[\"Milky Way\"],[\"Milky Way Simply Caramel\"],[\"Mr Good Bar\"],[\"Milk Duds\"],[\"M&M's\"],[\"3 Musketeers\"],[\"100 Grand\"],[\"Nestle Crunch\"],[\"Peanut M&Ms\"],[\"Reese's Peanut Butter cup\"],[\"Reese's pieces\"],[\"Reese's stuffed with pieces\"],[\"Rolo\"],[\"Snickers\"],[\"Snickers Crisper\"],[\"Swedish Fish\"],[\"Twix\"],[\"Peanut butter M&M's\"],[\"Nestle Butterfinger\"],[\"Kit Kat\"],[\"Junior Mints\"],[\"Hershey's Special Dark\"],[\"Hershey's Milk Chocolate\"],[\"Hershey's Krackel\"],[\"Baby Ruth\"],[\"Almond Joy\"],[\"Air Heads\"]],\"hovertemplate\":\"\\n\\u003cb style=\\\"font-size: 1.3em\\\"\\u003e%{customdata}\\u003c\\u002fb\\u003e\\u003cbr\\u003e\\n%{yaxis.title.text}: %{y}\\u003cbr\\u003e\\n%{xaxis.title.text}: %{x}\\u003cbr\\u003e\\n\\u003cextra\\u003e\\u003c\\u002fextra\\u003e\\n\",\"legendgroup\":\"Ch\\u00e8re\\u002fSucr\\u00e9 &\\u003cbr\\u003eAppr\\u00e9ci\\u00e9\",\"marker\":{\"color\":\"#FF7F0E\",\"symbol\":\"circle\"},\"mode\":\"markers\",\"name\":\"Ch\\u00e8re\\u002fSucr\\u00e9 &\\u003cbr\\u003eAppr\\u00e9ci\\u00e9\",\"orientation\":\"v\",\"showlegend\":true,\"x\":[65.100002,86.000001,91.799998,51.099998,65.100002,51.099998,86.000001,76.700002,65.100002,65.100002,65.100002,65.100002,86.000001,65.100002,65.100002,75.5,90.600002,65.100002,76.700002,51.099998,51.099998,91.799998,91.799998,91.799998,76.700002,76.700002,51.099998],\"xaxis\":\"x\",\"y\":[73.099556,64.35334,54.526451,55.064072,66.574585,67.602936,66.971725,66.47068,69.483788,84.18029,73.43499,72.887901,65.716286,76.673782,59.529251,54.861111,81.642914,71.46505,70.735641,76.7686,57.21925,59.236122,56.490501,62.284481,56.914547,50.347546,52.341465],\"yaxis\":\"y\",\"type\":\"scatter\"},{\"customdata\":[[\"Lemonhead\"],[\"Super Bubble\"],[\"Caramel Apple Pops\"],[\"Smarties candy\"],[\"Candy Corn\"],[\"Strawberry bon bons\"],[\"Sugar Daddy\"],[\"Tootsie Roll Snack Bars\"],[\"Tootsie Pop\"],[\"Tootsie Roll Midgies\"],[\"Laffy Taffy\"],[\"Trolli Sour Bites\"],[\"One dime\"],[\"Twizzlers\"],[\"Warheads\"],[\"Welch's Fruit Snacks\"],[\"Werther's Original Caramel\"],[\"Sixlets\"],[\"Runts\"],[\"Root Beer Barrels\"],[\"Fruit Chews\"],[\"Mike & Ike\"],[\"Haribo Twin Snakes\"],[\"Haribo Happy Cola\"],[\"Gobstopper\"],[\"Now & Later\"],[\"Fun Dip\"],[\"Red vines\"],[\"Pixie Sticks\"],[\"Dum Dums\"],[\"Chiclets\"]],\"hovertemplate\":\"\\n\\u003cb style=\\\"font-size: 1.3em\\\"\\u003e%{customdata}\\u003c\\u002fb\\u003e\\u003cbr\\u003e\\n%{yaxis.title.text}: %{y}\\u003cbr\\u003e\\n%{xaxis.title.text}: %{x}\\u003cbr\\u003e\\n\\u003cextra\\u003e\\u003c\\u002fextra\\u003e\\n\",\"legendgroup\":\"Abordable\\u002fSant\\u00e9 &\\u003cbr\\u003ePas appr\\u00e9ci\\u00e9\",\"marker\":{\"color\":\"#2CA02C\",\"symbol\":\"circle\"},\"mode\":\"markers\",\"name\":\"Abordable\\u002fSant\\u00e9 &\\u003cbr\\u003ePas appr\\u00e9ci\\u00e9\",\"orientation\":\"v\",\"showlegend\":true,\"x\":[10.4,11.600000000000001,32.499999,11.600000000000001,32.499999,5.7999998,32.499999,32.499999,32.499999,1.0999999999999999,11.600000000000001,25.5,11.600000000000001,11.600000000000001,11.600000000000001,31.299999,26.699999000000002,8.1,27.900001000000003,6.899999800000001,3.4000002,32.499999,46.5,46.5,45.300001,32.499999,32.499999,11.600000000000001,2.3,3.4000002,32.499999],\"xaxis\":\"x\",\"y\":[39.141056,27.303865,34.517681,45.995827,38.010963,34.578991,32.230995,49.653503,48.982651,45.736748,41.389557,47.173229,32.261086,45.466282,39.011898,44.375519,41.904308,34.722,42.849144,29.703691,43.088924,46.411716,42.178772,34.158958,46.783348,39.4468,39.185505,37.348522,37.722336,39.460556,24.524988],\"yaxis\":\"y\",\"type\":\"scatter\"},{\"customdata\":[[\"Nik L Nip\"],[\"Charleston Chew\"],[\"Jawbusters\"],[\"Mounds\"],[\"Ring pop\"],[\"Nestle Smarties\"],[\"Dots\"],[\"Pop Rocks\"],[\"Tootsie Roll Juniors\"],[\"Payday\"],[\"One quarter\"],[\"Boston Baked Beans\"],[\"Chewey Lemonhead Fruit Mix\"],[\"Sugar Babies\"],[\"Whoppers\"]],\"hovertemplate\":\"\\n\\u003cb style=\\\"font-size: 1.3em\\\"\\u003e%{customdata}\\u003c\\u002fb\\u003e\\u003cbr\\u003e\\n%{yaxis.title.text}: %{y}\\u003cbr\\u003e\\n%{xaxis.title.text}: %{x}\\u003cbr\\u003e\\n\\u003cextra\\u003e\\u003c\\u002fextra\\u003e\\n\",\"legendgroup\":\"Abordable\\u002fSant\\u00e9 &\\u003cbr\\u003eAppr\\u00e9ci\\u00e9\",\"marker\":{\"color\":\"#D62728\",\"symbol\":\"circle\"},\"mode\":\"markers\",\"name\":\"Abordable\\u002fSant\\u00e9 &\\u003cbr\\u003eAppr\\u00e9ci\\u00e9\",\"orientation\":\"v\",\"showlegend\":true,\"x\":[97.600001,51.099998,51.099998,86.000001,96.49999700000001,97.600001,51.099998,83.700001,51.099998,76.700002,51.099998,51.099998,51.099998,76.700002,84.799999],\"xaxis\":\"x\",\"y\":[22.445341,38.975037,28.127439,47.829754,35.290756,37.887188,42.272076,41.265511,43.068897,46.296597,46.116505,23.417824,36.017628,33.43755,49.524113],\"yaxis\":\"y\",\"type\":\"scatter\"},{\"customdata\":[[\"Junior Mints\"],[\"Hershey's Kisses\"],[\"Haribo Sour Bears\"],[\"Nestle Crunch\"],[\"Haribo Gold Bears\"],[\"Milk Duds\"],[\"Reese's Miniatures\"],[\"Hershey's Milk Chocolate\"],[\"Reese's pieces\"],[\"Hershey's Special Dark\"],[\"Hershey's Krackel\"],[\"Kit Kat\"],[\"Mr Good Bar\"],[\"Sour Patch Kids\"],[\"Sour Patch Tricksters\"],[\"Almond Joy\"],[\"Starburst\"],[\"Lifesavers big ring gummies\"]],\"hovertemplate\":\"\\n\\u003cb style=\\\"font-size: 1.3em\\\"\\u003e%{customdata}\\u003c\\u002fb\\u003e\\u003cbr\\u003e\\n%{yaxis.title.text}: %{y}\\u003cbr\\u003e\\n%{xaxis.title.text}: %{x}\\u003cbr\\u003e\\n\\u003cextra\\u003e\\u003c\\u002fextra\\u003e\\n\",\"legendgroup\":\"Ch\\u00e8re\\u002fSucr\\u00e9 &\\u003cbr\\u003ePas appr\\u00e9ci\\u00e9\",\"marker\":{\"color\":\"#1F77B4\",\"symbol\":\"circle\"},\"mode\":\"markers\",\"name\":\"Ch\\u00e8re\\u002fSucr\\u00e9 &\\u003cbr\\u003ePas appr\\u00e9ci\\u00e9\",\"orientation\":\"v\",\"showlegend\":false,\"x\":[19.7,12.7,46.5,31.299999,46.5,30.199999,3.4000002,43.000001,40.599999,43.000001,43.000001,31.299999,31.299999,6.899999800000001,6.899999800000001,46.5,15.099999,26.699999000000002],\"xaxis\":\"x2\",\"y\":[57.21925,55.375454,51.41243,66.47068,57.11974,55.064072,81.866257,56.490501,73.43499,59.236122,62.284481,76.7686,54.526451,59.863998,52.825947,50.347546,67.037628,52.911392],\"yaxis\":\"y2\",\"type\":\"scatter\"},{\"customdata\":[[\"Nerds\"],[\"Milky Way Simply Caramel\"],[\"Milky Way Midnight\"],[\"100 Grand\"],[\"Peanut M&Ms\"],[\"3 Musketeers\"],[\"Reese's Peanut Butter cup\"],[\"Reese's stuffed with pieces\"],[\"Rolo\"],[\"Skittles original\"],[\"Skittles wildberry\"],[\"Snickers\"],[\"Snickers Crisper\"],[\"Swedish Fish\"],[\"Twix\"],[\"Milky Way\"],[\"Nestle Butterfinger\"],[\"M&M's\"],[\"Peanut butter M&M's\"],[\"Air Heads\"],[\"Baby Ruth\"]],\"hovertemplate\":\"\\n\\u003cb style=\\\"font-size: 1.3em\\\"\\u003e%{customdata}\\u003c\\u002fb\\u003e\\u003cbr\\u003e\\n%{yaxis.title.text}: %{y}\\u003cbr\\u003e\\n%{xaxis.title.text}: %{x}\\u003cbr\\u003e\\n\\u003cextra\\u003e\\u003c\\u002fextra\\u003e\\n\",\"legendgroup\":\"Ch\\u00e8re\\u002fSucr\\u00e9 &\\u003cbr\\u003eAppr\\u00e9ci\\u00e9\",\"marker\":{\"color\":\"#FF7F0E\",\"symbol\":\"circle\"},\"mode\":\"markers\",\"name\":\"Ch\\u00e8re\\u002fSucr\\u00e9 &\\u003cbr\\u003eAppr\\u00e9ci\\u00e9\",\"orientation\":\"v\",\"showlegend\":false,\"x\":[84.799999,96.49999700000001,73.199999,73.199999,59.299999,60.399997000000006,72.000003,98.799998,86.000001,94.099998,94.099998,54.6,60.399997000000006,60.399997000000006,54.6,60.399997000000006,60.399997000000006,82.499999,82.499999,90.600002,60.399997000000006],\"xaxis\":\"x2\",\"y\":[55.354046,64.35334,60.800701,66.971725,69.483788,67.602936,84.18029,72.887901,65.716286,63.08514,55.103695,76.673782,59.529251,54.861111,81.642914,73.099556,70.735641,66.574585,71.46505,52.341465,56.914547],\"yaxis\":\"y2\",\"type\":\"scatter\"},{\"customdata\":[[\"Fruit Chews\"],[\"Tootsie Roll Snack Bars\"],[\"Chiclets\"],[\"Tootsie Roll Midgies\"],[\"Tootsie Roll Juniors\"],[\"Sixlets\"],[\"Smarties candy\"],[\"Nestle Smarties\"],[\"One dime\"],[\"One quarter\"],[\"Super Bubble\"],[\"Boston Baked Beans\"],[\"Trolli Sour Bites\"],[\"Sugar Daddy\"],[\"Lemonhead\"],[\"Warheads\"],[\"Welch's Fruit Snacks\"],[\"Pixie Sticks\"],[\"Werther's Original Caramel\"],[\"Payday\"],[\"Now & Later\"],[\"Twizzlers\"],[\"Nik L Nip\"],[\"Haribo Happy Cola\"],[\"Haribo Twin Snakes\"],[\"Jawbusters\"],[\"Laffy Taffy\"],[\"Mounds\"]],\"hovertemplate\":\"\\n\\u003cb style=\\\"font-size: 1.3em\\\"\\u003e%{customdata}\\u003c\\u002fb\\u003e\\u003cbr\\u003e\\n%{yaxis.title.text}: %{y}\\u003cbr\\u003e\\n%{xaxis.title.text}: %{x}\\u003cbr\\u003e\\n\\u003cextra\\u003e\\u003c\\u002fextra\\u003e\\n\",\"legendgroup\":\"Abordable\\u002fSant\\u00e9 &\\u003cbr\\u003ePas appr\\u00e9ci\\u00e9\",\"marker\":{\"color\":\"#2CA02C\",\"symbol\":\"circle\"},\"mode\":\"markers\",\"name\":\"Abordable\\u002fSant\\u00e9 &\\u003cbr\\u003ePas appr\\u00e9ci\\u00e9\",\"orientation\":\"v\",\"showlegend\":false,\"x\":[12.7,46.5,4.6,17.399999,31.299999,22.0,26.699999000000002,26.699999000000002,1.0999999999999999,1.0999999999999999,16.2,31.299999,31.299999,41.800000999999995,4.6,9.3000002,31.299999,9.3000002,18.6,46.5,22.0,22.0,19.7,46.5,46.5,9.3000002,22.0,31.299999],\"xaxis\":\"x2\",\"y\":[43.088924,49.653503,24.524988,45.736748,43.068897,34.722,45.995827,37.887188,32.261086,46.116505,27.303865,23.417824,47.173229,32.230995,39.141056,39.011898,44.375519,37.722336,41.904308,46.296597,39.4468,45.466282,22.445341,34.158958,42.178772,28.127439,41.389557,47.829754],\"yaxis\":\"y2\",\"type\":\"scatter\"},{\"customdata\":[[\"Sugar Babies\"],[\"Tootsie Pop\"],[\"Mike & Ike\"],[\"Chewey Lemonhead Fruit Mix\"],[\"Strawberry bon bons\"],[\"Candy Corn\"],[\"Caramel Apple Pops\"],[\"Charleston Chew\"],[\"Runts\"],[\"Root Beer Barrels\"],[\"Ring pop\"],[\"Dots\"],[\"Dum Dums\"],[\"Fun Dip\"],[\"Red vines\"],[\"Pop Rocks\"],[\"Gobstopper\"],[\"Whoppers\"]],\"hovertemplate\":\"\\n\\u003cb style=\\\"font-size: 1.3em\\\"\\u003e%{customdata}\\u003c\\u002fb\\u003e\\u003cbr\\u003e\\n%{yaxis.title.text}: %{y}\\u003cbr\\u003e\\n%{xaxis.title.text}: %{x}\\u003cbr\\u003e\\n\\u003cextra\\u003e\\u003c\\u002fextra\\u003e\\n\",\"legendgroup\":\"Abordable\\u002fSant\\u00e9 &\\u003cbr\\u003eAppr\\u00e9ci\\u00e9\",\"marker\":{\"color\":\"#D62728\",\"symbol\":\"circle\"},\"mode\":\"markers\",\"name\":\"Abordable\\u002fSant\\u00e9 &\\u003cbr\\u003eAppr\\u00e9ci\\u00e9\",\"orientation\":\"v\",\"showlegend\":false,\"x\":[96.49999700000001,60.399997000000006,87.199998,73.199999,56.900001,90.600002,60.399997000000006,60.399997000000006,87.199998,73.199999,73.199999,73.199999,73.199999,73.199999,58.099997,60.399997000000006,90.600002,87.199998],\"xaxis\":\"x2\",\"y\":[33.43755,48.982651,46.411716,36.017628,34.578991,38.010963,34.517681,38.975037,42.849144,29.703691,35.290756,42.272076,39.460556,39.185505,37.348522,41.265511,46.783348,49.524113],\"yaxis\":\"y2\",\"type\":\"scatter\"}],                        {\"legend\":{\"itemsizing\":\"constant\",\"orientation\":\"h\",\"title\":{\"text\":\"\"},\"tracegroupgap\":0,\"x\":0.5,\"xanchor\":\"center\",\"y\":1.03,\"yanchor\":\"bottom\"},\"shapes\":[{\"layer\":\"below\",\"line\":{\"color\":\"grey\",\"width\":2},\"type\":\"line\",\"x0\":50,\"x1\":50,\"xref\":\"x\",\"y0\":0,\"y1\":1,\"yref\":\"y domain\"},{\"layer\":\"below\",\"line\":{\"color\":\"grey\",\"width\":2},\"type\":\"line\",\"x0\":50,\"x1\":50,\"xref\":\"x2\",\"y0\":0,\"y1\":1,\"yref\":\"y2 domain\"},{\"layer\":\"below\",\"line\":{\"color\":\"grey\",\"width\":2},\"type\":\"line\",\"x0\":0,\"x1\":1,\"xref\":\"x domain\",\"y0\":50,\"y1\":50,\"yref\":\"y\"},{\"layer\":\"below\",\"line\":{\"color\":\"grey\",\"width\":2},\"type\":\"line\",\"x0\":0,\"x1\":1,\"xref\":\"x2 domain\",\"y0\":50,\"y1\":50,\"yref\":\"y2\"}],\"template\":{\"data\":{\"barpolar\":[{\"marker\":{\"line\":{\"color\":\"white\",\"width\":0.5},\"pattern\":{\"fillmode\":\"overlay\",\"size\":10,\"solidity\":0.2}},\"type\":\"barpolar\"}],\"bar\":[{\"error_x\":{\"color\":\"rgb(36,36,36)\"},\"error_y\":{\"color\":\"rgb(36,36,36)\"},\"marker\":{\"line\":{\"color\":\"white\",\"width\":0.5},\"pattern\":{\"fillmode\":\"overlay\",\"size\":10,\"solidity\":0.2}},\"type\":\"bar\"}],\"carpet\":[{\"aaxis\":{\"endlinecolor\":\"rgb(36,36,36)\",\"gridcolor\":\"white\",\"linecolor\":\"white\",\"minorgridcolor\":\"white\",\"startlinecolor\":\"rgb(36,36,36)\"},\"baxis\":{\"endlinecolor\":\"rgb(36,36,36)\",\"gridcolor\":\"white\",\"linecolor\":\"white\",\"minorgridcolor\":\"white\",\"startlinecolor\":\"rgb(36,36,36)\"},\"type\":\"carpet\"}],\"choropleth\":[{\"colorbar\":{\"outlinewidth\":1,\"tickcolor\":\"rgb(36,36,36)\",\"ticks\":\"outside\"},\"type\":\"choropleth\"}],\"contourcarpet\":[{\"colorbar\":{\"outlinewidth\":1,\"tickcolor\":\"rgb(36,36,36)\",\"ticks\":\"outside\"},\"type\":\"contourcarpet\"}],\"contour\":[{\"colorbar\":{\"outlinewidth\":1,\"tickcolor\":\"rgb(36,36,36)\",\"ticks\":\"outside\"},\"colorscale\":[[0.0,\"#440154\"],[0.1111111111111111,\"#482878\"],[0.2222222222222222,\"#3e4989\"],[0.3333333333333333,\"#31688e\"],[0.4444444444444444,\"#26828e\"],[0.5555555555555556,\"#1f9e89\"],[0.6666666666666666,\"#35b779\"],[0.7777777777777778,\"#6ece58\"],[0.8888888888888888,\"#b5de2b\"],[1.0,\"#fde725\"]],\"type\":\"contour\"}],\"heatmapgl\":[{\"colorbar\":{\"outlinewidth\":1,\"tickcolor\":\"rgb(36,36,36)\",\"ticks\":\"outside\"},\"colorscale\":[[0.0,\"#440154\"],[0.1111111111111111,\"#482878\"],[0.2222222222222222,\"#3e4989\"],[0.3333333333333333,\"#31688e\"],[0.4444444444444444,\"#26828e\"],[0.5555555555555556,\"#1f9e89\"],[0.6666666666666666,\"#35b779\"],[0.7777777777777778,\"#6ece58\"],[0.8888888888888888,\"#b5de2b\"],[1.0,\"#fde725\"]],\"type\":\"heatmapgl\"}],\"heatmap\":[{\"colorbar\":{\"outlinewidth\":1,\"tickcolor\":\"rgb(36,36,36)\",\"ticks\":\"outside\"},\"colorscale\":[[0.0,\"#440154\"],[0.1111111111111111,\"#482878\"],[0.2222222222222222,\"#3e4989\"],[0.3333333333333333,\"#31688e\"],[0.4444444444444444,\"#26828e\"],[0.5555555555555556,\"#1f9e89\"],[0.6666666666666666,\"#35b779\"],[0.7777777777777778,\"#6ece58\"],[0.8888888888888888,\"#b5de2b\"],[1.0,\"#fde725\"]],\"type\":\"heatmap\"}],\"histogram2dcontour\":[{\"colorbar\":{\"outlinewidth\":1,\"tickcolor\":\"rgb(36,36,36)\",\"ticks\":\"outside\"},\"colorscale\":[[0.0,\"#440154\"],[0.1111111111111111,\"#482878\"],[0.2222222222222222,\"#3e4989\"],[0.3333333333333333,\"#31688e\"],[0.4444444444444444,\"#26828e\"],[0.5555555555555556,\"#1f9e89\"],[0.6666666666666666,\"#35b779\"],[0.7777777777777778,\"#6ece58\"],[0.8888888888888888,\"#b5de2b\"],[1.0,\"#fde725\"]],\"type\":\"histogram2dcontour\"}],\"histogram2d\":[{\"colorbar\":{\"outlinewidth\":1,\"tickcolor\":\"rgb(36,36,36)\",\"ticks\":\"outside\"},\"colorscale\":[[0.0,\"#440154\"],[0.1111111111111111,\"#482878\"],[0.2222222222222222,\"#3e4989\"],[0.3333333333333333,\"#31688e\"],[0.4444444444444444,\"#26828e\"],[0.5555555555555556,\"#1f9e89\"],[0.6666666666666666,\"#35b779\"],[0.7777777777777778,\"#6ece58\"],[0.8888888888888888,\"#b5de2b\"],[1.0,\"#fde725\"]],\"type\":\"histogram2d\"}],\"histogram\":[{\"marker\":{\"line\":{\"color\":\"white\",\"width\":0.6}},\"type\":\"histogram\"}],\"mesh3d\":[{\"colorbar\":{\"outlinewidth\":1,\"tickcolor\":\"rgb(36,36,36)\",\"ticks\":\"outside\"},\"type\":\"mesh3d\"}],\"parcoords\":[{\"line\":{\"colorbar\":{\"outlinewidth\":1,\"tickcolor\":\"rgb(36,36,36)\",\"ticks\":\"outside\"}},\"type\":\"parcoords\"}],\"pie\":[{\"automargin\":true,\"type\":\"pie\"}],\"scatter3d\":[{\"line\":{\"colorbar\":{\"outlinewidth\":1,\"tickcolor\":\"rgb(36,36,36)\",\"ticks\":\"outside\"}},\"marker\":{\"colorbar\":{\"outlinewidth\":1,\"tickcolor\":\"rgb(36,36,36)\",\"ticks\":\"outside\"}},\"type\":\"scatter3d\"}],\"scattercarpet\":[{\"marker\":{\"colorbar\":{\"outlinewidth\":1,\"tickcolor\":\"rgb(36,36,36)\",\"ticks\":\"outside\"}},\"type\":\"scattercarpet\"}],\"scattergeo\":[{\"marker\":{\"colorbar\":{\"outlinewidth\":1,\"tickcolor\":\"rgb(36,36,36)\",\"ticks\":\"outside\"}},\"type\":\"scattergeo\"}],\"scattergl\":[{\"marker\":{\"colorbar\":{\"outlinewidth\":1,\"tickcolor\":\"rgb(36,36,36)\",\"ticks\":\"outside\"}},\"type\":\"scattergl\"}],\"scattermapbox\":[{\"marker\":{\"colorbar\":{\"outlinewidth\":1,\"tickcolor\":\"rgb(36,36,36)\",\"ticks\":\"outside\"}},\"type\":\"scattermapbox\"}],\"scatterpolargl\":[{\"marker\":{\"colorbar\":{\"outlinewidth\":1,\"tickcolor\":\"rgb(36,36,36)\",\"ticks\":\"outside\"}},\"type\":\"scatterpolargl\"}],\"scatterpolar\":[{\"marker\":{\"colorbar\":{\"outlinewidth\":1,\"tickcolor\":\"rgb(36,36,36)\",\"ticks\":\"outside\"}},\"type\":\"scatterpolar\"}],\"scatter\":[{\"fillpattern\":{\"fillmode\":\"overlay\",\"size\":10,\"solidity\":0.2},\"type\":\"scatter\"}],\"scatterternary\":[{\"marker\":{\"colorbar\":{\"outlinewidth\":1,\"tickcolor\":\"rgb(36,36,36)\",\"ticks\":\"outside\"}},\"type\":\"scatterternary\"}],\"surface\":[{\"colorbar\":{\"outlinewidth\":1,\"tickcolor\":\"rgb(36,36,36)\",\"ticks\":\"outside\"},\"colorscale\":[[0.0,\"#440154\"],[0.1111111111111111,\"#482878\"],[0.2222222222222222,\"#3e4989\"],[0.3333333333333333,\"#31688e\"],[0.4444444444444444,\"#26828e\"],[0.5555555555555556,\"#1f9e89\"],[0.6666666666666666,\"#35b779\"],[0.7777777777777778,\"#6ece58\"],[0.8888888888888888,\"#b5de2b\"],[1.0,\"#fde725\"]],\"type\":\"surface\"}],\"table\":[{\"cells\":{\"fill\":{\"color\":\"rgb(237,237,237)\"},\"line\":{\"color\":\"white\"}},\"header\":{\"fill\":{\"color\":\"rgb(217,217,217)\"},\"line\":{\"color\":\"white\"}},\"type\":\"table\"}]},\"layout\":{\"annotationdefaults\":{\"arrowhead\":0,\"arrowwidth\":1},\"autotypenumbers\":\"strict\",\"coloraxis\":{\"colorbar\":{\"outlinewidth\":1,\"tickcolor\":\"rgb(36,36,36)\",\"ticks\":\"outside\"}},\"colorscale\":{\"diverging\":[[0.0,\"rgb(103,0,31)\"],[0.1,\"rgb(178,24,43)\"],[0.2,\"rgb(214,96,77)\"],[0.3,\"rgb(244,165,130)\"],[0.4,\"rgb(253,219,199)\"],[0.5,\"rgb(247,247,247)\"],[0.6,\"rgb(209,229,240)\"],[0.7,\"rgb(146,197,222)\"],[0.8,\"rgb(67,147,195)\"],[0.9,\"rgb(33,102,172)\"],[1.0,\"rgb(5,48,97)\"]],\"sequential\":[[0.0,\"#440154\"],[0.1111111111111111,\"#482878\"],[0.2222222222222222,\"#3e4989\"],[0.3333333333333333,\"#31688e\"],[0.4444444444444444,\"#26828e\"],[0.5555555555555556,\"#1f9e89\"],[0.6666666666666666,\"#35b779\"],[0.7777777777777778,\"#6ece58\"],[0.8888888888888888,\"#b5de2b\"],[1.0,\"#fde725\"]],\"sequentialminus\":[[0.0,\"#440154\"],[0.1111111111111111,\"#482878\"],[0.2222222222222222,\"#3e4989\"],[0.3333333333333333,\"#31688e\"],[0.4444444444444444,\"#26828e\"],[0.5555555555555556,\"#1f9e89\"],[0.6666666666666666,\"#35b779\"],[0.7777777777777778,\"#6ece58\"],[0.8888888888888888,\"#b5de2b\"],[1.0,\"#fde725\"]]},\"colorway\":[\"#1F77B4\",\"#FF7F0E\",\"#2CA02C\",\"#D62728\",\"#9467BD\",\"#8C564B\",\"#E377C2\",\"#7F7F7F\",\"#BCBD22\",\"#17BECF\"],\"font\":{\"color\":\"rgb(36,36,36)\"},\"geo\":{\"bgcolor\":\"white\",\"lakecolor\":\"white\",\"landcolor\":\"white\",\"showlakes\":true,\"showland\":true,\"subunitcolor\":\"white\"},\"hoverlabel\":{\"align\":\"left\"},\"hovermode\":\"closest\",\"mapbox\":{\"style\":\"light\"},\"paper_bgcolor\":\"white\",\"plot_bgcolor\":\"white\",\"polar\":{\"angularaxis\":{\"gridcolor\":\"rgb(232,232,232)\",\"linecolor\":\"rgb(36,36,36)\",\"showgrid\":false,\"showline\":true,\"ticks\":\"outside\"},\"bgcolor\":\"white\",\"radialaxis\":{\"gridcolor\":\"rgb(232,232,232)\",\"linecolor\":\"rgb(36,36,36)\",\"showgrid\":false,\"showline\":true,\"ticks\":\"outside\"}},\"scene\":{\"xaxis\":{\"backgroundcolor\":\"white\",\"gridcolor\":\"rgb(232,232,232)\",\"gridwidth\":2,\"linecolor\":\"rgb(36,36,36)\",\"showbackground\":true,\"showgrid\":false,\"showline\":true,\"ticks\":\"outside\",\"zeroline\":false,\"zerolinecolor\":\"rgb(36,36,36)\"},\"yaxis\":{\"backgroundcolor\":\"white\",\"gridcolor\":\"rgb(232,232,232)\",\"gridwidth\":2,\"linecolor\":\"rgb(36,36,36)\",\"showbackground\":true,\"showgrid\":false,\"showline\":true,\"ticks\":\"outside\",\"zeroline\":false,\"zerolinecolor\":\"rgb(36,36,36)\"},\"zaxis\":{\"backgroundcolor\":\"white\",\"gridcolor\":\"rgb(232,232,232)\",\"gridwidth\":2,\"linecolor\":\"rgb(36,36,36)\",\"showbackground\":true,\"showgrid\":false,\"showline\":true,\"ticks\":\"outside\",\"zeroline\":false,\"zerolinecolor\":\"rgb(36,36,36)\"}},\"shapedefaults\":{\"fillcolor\":\"black\",\"line\":{\"width\":0},\"opacity\":0.3},\"ternary\":{\"aaxis\":{\"gridcolor\":\"rgb(232,232,232)\",\"linecolor\":\"rgb(36,36,36)\",\"showgrid\":false,\"showline\":true,\"ticks\":\"outside\"},\"baxis\":{\"gridcolor\":\"rgb(232,232,232)\",\"linecolor\":\"rgb(36,36,36)\",\"showgrid\":false,\"showline\":true,\"ticks\":\"outside\"},\"bgcolor\":\"white\",\"caxis\":{\"gridcolor\":\"rgb(232,232,232)\",\"linecolor\":\"rgb(36,36,36)\",\"showgrid\":false,\"showline\":true,\"ticks\":\"outside\"}},\"title\":{\"x\":0.05},\"xaxis\":{\"automargin\":true,\"gridcolor\":\"rgb(232,232,232)\",\"linecolor\":\"rgb(36,36,36)\",\"showgrid\":false,\"showline\":true,\"ticks\":\"outside\",\"title\":{\"standoff\":15},\"zeroline\":false,\"zerolinecolor\":\"rgb(36,36,36)\"},\"yaxis\":{\"automargin\":true,\"gridcolor\":\"rgb(232,232,232)\",\"linecolor\":\"rgb(36,36,36)\",\"showgrid\":false,\"showline\":true,\"ticks\":\"outside\",\"title\":{\"standoff\":15},\"zeroline\":false,\"zerolinecolor\":\"rgb(36,36,36)\"}}},\"xaxis\":{\"anchor\":\"y\",\"domain\":[0,0.49],\"range\":[0,100],\"title\":{\"text\":\"Prix relatif (%)\"}},\"yaxis\":{\"anchor\":\"x\",\"domain\":[0,1],\"range\":[0,100],\"title\":{\"text\":\"Appr\\u00e9ciation (%)\"}},\"xaxis2\":{\"anchor\":\"y2\",\"domain\":[0.51,1],\"matches\":\"x\",\"range\":[0,100],\"title\":{\"text\":\"Proportion de sucre (%)\"}},\"yaxis2\":{\"anchor\":\"x2\",\"domain\":[0,1],\"matches\":\"y\",\"range\":[0,100],\"showticklabels\":false}},                        {\"responsive\": true}                    ).then(function(){\n",
       "                            \n",
       "var gd = document.getElementById('6fb76ef4-8907-4185-9881-f54327e92dba');\n",
       "var x = new MutationObserver(function (mutations, observer) {{\n",
       "        var display = window.getComputedStyle(gd).display;\n",
       "        if (!display || display === 'none') {{\n",
       "            console.log([gd, 'removed!']);\n",
       "            Plotly.purge(gd);\n",
       "            observer.disconnect();\n",
       "        }}\n",
       "}});\n",
       "\n",
       "// Listen for the removal of the full notebook cells\n",
       "var notebookContainer = gd.closest('#notebook-container');\n",
       "if (notebookContainer) {{\n",
       "    x.observe(notebookContainer, {childList: true});\n",
       "}}\n",
       "\n",
       "// Listen for the clearing of the current output cell\n",
       "var outputEl = gd.closest('.output');\n",
       "if (outputEl) {{\n",
       "    x.observe(outputEl, {childList: true});\n",
       "}}\n",
       "\n",
       "                        })                };                });            </script>        </div>"
      ]
     },
     "metadata": {},
     "output_type": "display_data"
    }
   ],
   "source": [
    "scat1 = px.scatter(filtered1_df, x=x_col1, y=y_col, color='couleur', hover_data=['competitorname'], template='simple_white')\n",
    "\n",
    "scat2 = px.scatter(filtered2_df, x=x_col2, y=y_col, color='couleur', hover_data=['competitorname'], template='simple_white')\n",
    "scat2.update_traces(xaxis='x2')\n",
    "scat2.update_traces(yaxis='y2')\n",
    "scat2.update_traces(showlegend=False)\n",
    "#scat2.for_each_trace(lambda x: x.update(legendgroup=x['legendgroup'] + '-1'))\n",
    "\n",
    "text = [\n",
    "    # Text Right Graph\n",
    "    go.Scatter(x=[25], y=[94], mode='text', text='<b style=\"color:grey; font-size:1.3em\">Abordable & Apprécié</b>', textposition='middle center', textfont_color='rgba(80,80,80,0.6)', showlegend=False, xaxis='x', yaxis='y'),\n",
    "    go.Scatter(x=[25], y=[44], mode='text', text='<b style=\"color:grey; font-size:1.3em\">Abordable & Pas apprécié</b>', textposition='middle center', textfont_color='rgba(80,80,80,0.6)', showlegend=False, xaxis='x', yaxis='y'),\n",
    "    go.Scatter(x=[75], y=[94], mode='text', text='<b style=\"color:grey; font-size:1.3em\">Chère & Apprécié</b>', textposition='middle center', textfont_color='rgba(80,80,80,0.6)', showlegend=False, xaxis='x', yaxis='y'),\n",
    "    go.Scatter(x=[75], y=[44], mode='text', text='<b style=\"color:grey; font-size:1.3em\">Chère & Pas apprécié</b>', textposition='middle center', textfont_color='rgba(80,80,80,0.6)', showlegend=False, xaxis='x', yaxis='y'),\n",
    "    \n",
    "    # Text Left Graph\n",
    "    go.Scatter(x=[25], y=[94], mode='text', text='<b style=\"color:grey; font-size:1.3em\">Santé & Apprécié</b>', textposition='middle center', textfont_color='rgba(80,80,80,0.6)', showlegend=False, xaxis='x2', yaxis='y2'),\n",
    "    go.Scatter(x=[25], y=[44], mode='text', text='<b style=\"color:grey; font-size:1.3em\">Santé & Pas apprécié</b>', textposition='middle center', textfont_color='rgba(80,80,80,0.6)', showlegend=False, xaxis='x2', yaxis='y2'),\n",
    "    go.Scatter(x=[75], y=[94], mode='text', text='<b style=\"color:grey; font-size:1.3em\">Sucré & Apprécié</b>', textposition='middle center', textfont_color='rgba(80,80,80,0.6)', showlegend=False, xaxis='x2', yaxis='y2'),\n",
    "    go.Scatter(x=[75], y=[44], mode='text', text='<b style=\"color:grey; font-size:1.3em\">Sucré & Pas apprécié</b>', textposition='middle center', textfont_color='rgba(80,80,80,0.6)', showlegend=False, xaxis='x2', yaxis='y2'),\n",
    "]\n",
    "\n",
    "fig = go.Figure([*text, *scat1.data, *scat2.data], layout={\n",
    "    \"xaxis\":  {'anchor': 'y' , 'domain': [0, .49], 'range': [0, 100], 'title': {'text': 'Prix relatif (%)'}},\n",
    "    \"xaxis2\": {'anchor': 'y2', 'domain': [.51, 1], 'range': [0, 100], 'matches': 'x', 'title': {'text': 'Proportion de sucre (%)'}},\n",
    "    \"yaxis\":  {'anchor': 'x' , 'domain': [0, 1]  , 'range': [0, 100], 'title': {'text': 'Appréciation (%)'}},\n",
    "    \"yaxis2\": {'anchor': 'x2', 'domain': [0, 1]  , 'range': [0, 100], 'matches': 'y', 'showticklabels': False},\n",
    "    \"shapes\":[\n",
    "        {'layer': 'below', 'line': {'color': 'grey', 'width': 2}, 'type': 'line', 'x0': 50, 'x1': 50, 'xref': 'x'        , 'y0': 0 , 'y1': 1 , 'yref': 'y domain' },\n",
    "        {'layer': 'below', 'line': {'color': 'grey', 'width': 2}, 'type': 'line', 'x0': 50, 'x1': 50, 'xref': 'x2'       , 'y0': 0 , 'y1': 1 , 'yref': 'y2 domain'},\n",
    "        {'layer': 'below', 'line': {'color': 'grey', 'width': 2}, 'type': 'line', 'x0': 0 , 'x1': 1 , 'xref': 'x domain' , 'y0': 50, 'y1': 50, 'yref': 'y'        },\n",
    "        {'layer': 'below', 'line': {'color': 'grey', 'width': 2}, 'type': 'line', 'x0': 0 , 'x1': 1 , 'xref': 'x2 domain', 'y0': 50, 'y1': 50, 'yref': 'y2'       }\n",
    "    ],\n",
    "    'legend' : {'itemsizing': 'constant', 'orientation': 'h', 'title': {'text': ''}, 'tracegroupgap': 0, 'x': 0.5, 'xanchor': 'center', 'y': 1.03, 'yanchor': 'bottom'},\n",
    "    #'legend' : {'itemsizing': 'constant', 'orientation': 'h', 'title': {'text': ''}, 'tracegroupgap': 0, 'x': 0.25, 'xanchor': 'center', 'y': 1.03, 'yanchor': 'bottom'},\n",
    "    # 'legend2': {'itemsizing': 'constant', 'orientation': 'h', 'title': {'text': ''}, 'tracegroupgap': 0, 'x': 0.75, 'xanchor': 'center', 'y': 1.03, 'yanchor': 'bottom'},\n",
    "    'template': \"simple_white\"\n",
    "})\n",
    "\n",
    "fig.update_traces(hovertemplate=\"\"\"\n",
    "<b style=\"font-size: 1.3em\">%{customdata}</b><br>\n",
    "%{yaxis.title.text}: %{y}<br>\n",
    "%{xaxis.title.text}: %{x}<br>\n",
    "<extra></extra>\n",
    "\"\"\", selector=dict(type=\"scatter\", mode=\"markers\"))\n",
    "fig.update_traces(hoverinfo='skip', selector=dict(type=\"scatter\", mode=\"text\"))\n",
    "\n",
    "\n",
    "#print(fig)"
   ]
  }
 ],
 "metadata": {
  "kernelspec": {
   "display_name": "Python 3 (ipykernel)",
   "language": "python",
   "name": "python3"
  },
  "language_info": {
   "codemirror_mode": {
    "name": "ipython",
    "version": 3
   },
   "file_extension": ".py",
   "mimetype": "text/x-python",
   "name": "python",
   "nbconvert_exporter": "python",
   "pygments_lexer": "ipython3",
   "version": "3.10.14"
  }
 },
 "nbformat": 4,
 "nbformat_minor": 5
}
