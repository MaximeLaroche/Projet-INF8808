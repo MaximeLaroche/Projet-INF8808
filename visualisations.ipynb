{
 "cells": [
  {
   "cell_type": "code",
   "execution_count": 39,
   "id": "initial_id",
   "metadata": {
    "collapsed": true,
    "ExecuteTime": {
     "end_time": "2024-04-02T00:14:39.740238Z",
     "start_time": "2024-04-02T00:14:39.736790Z"
    }
   },
   "outputs": [],
   "source": [
    "import pandas as pd\n",
    "import plotly.express as px\n",
    "import plotly.graph_objects as go"
   ]
  },
  {
   "cell_type": "code",
   "outputs": [
    {
     "data": {
      "text/plain": "  competitorname  chocolate  fruity  caramel  peanutyalmondy  nougat  \\\n0      100 Grand          1       0        1               0       0   \n1   3 Musketeers          1       0        0               0       1   \n2       One dime          0       0        0               0       0   \n3    One quarter          0       0        0               0       0   \n4      Air Heads          0       1        0               0       0   \n\n   crispedricewafer  hard  bar  pluribus  sugarpercent  pricepercent  \\\n0                 1     0    1         0     73.199999     86.000001   \n1                 0     0    1         0     60.399997     51.099998   \n2                 0     0    0         0      1.100000     11.600000   \n3                 0     0    0         0      1.100000     51.099998   \n4                 0     0    0         0     90.600002     51.099998   \n\n   winpercent  \n0   66.971725  \n1   67.602936  \n2   32.261086  \n3   46.116505  \n4   52.341465  ",
      "text/html": "<div>\n<style scoped>\n    .dataframe tbody tr th:only-of-type {\n        vertical-align: middle;\n    }\n\n    .dataframe tbody tr th {\n        vertical-align: top;\n    }\n\n    .dataframe thead th {\n        text-align: right;\n    }\n</style>\n<table border=\"1\" class=\"dataframe\">\n  <thead>\n    <tr style=\"text-align: right;\">\n      <th></th>\n      <th>competitorname</th>\n      <th>chocolate</th>\n      <th>fruity</th>\n      <th>caramel</th>\n      <th>peanutyalmondy</th>\n      <th>nougat</th>\n      <th>crispedricewafer</th>\n      <th>hard</th>\n      <th>bar</th>\n      <th>pluribus</th>\n      <th>sugarpercent</th>\n      <th>pricepercent</th>\n      <th>winpercent</th>\n    </tr>\n  </thead>\n  <tbody>\n    <tr>\n      <th>0</th>\n      <td>100 Grand</td>\n      <td>1</td>\n      <td>0</td>\n      <td>1</td>\n      <td>0</td>\n      <td>0</td>\n      <td>1</td>\n      <td>0</td>\n      <td>1</td>\n      <td>0</td>\n      <td>73.199999</td>\n      <td>86.000001</td>\n      <td>66.971725</td>\n    </tr>\n    <tr>\n      <th>1</th>\n      <td>3 Musketeers</td>\n      <td>1</td>\n      <td>0</td>\n      <td>0</td>\n      <td>0</td>\n      <td>1</td>\n      <td>0</td>\n      <td>0</td>\n      <td>1</td>\n      <td>0</td>\n      <td>60.399997</td>\n      <td>51.099998</td>\n      <td>67.602936</td>\n    </tr>\n    <tr>\n      <th>2</th>\n      <td>One dime</td>\n      <td>0</td>\n      <td>0</td>\n      <td>0</td>\n      <td>0</td>\n      <td>0</td>\n      <td>0</td>\n      <td>0</td>\n      <td>0</td>\n      <td>0</td>\n      <td>1.100000</td>\n      <td>11.600000</td>\n      <td>32.261086</td>\n    </tr>\n    <tr>\n      <th>3</th>\n      <td>One quarter</td>\n      <td>0</td>\n      <td>0</td>\n      <td>0</td>\n      <td>0</td>\n      <td>0</td>\n      <td>0</td>\n      <td>0</td>\n      <td>0</td>\n      <td>0</td>\n      <td>1.100000</td>\n      <td>51.099998</td>\n      <td>46.116505</td>\n    </tr>\n    <tr>\n      <th>4</th>\n      <td>Air Heads</td>\n      <td>0</td>\n      <td>1</td>\n      <td>0</td>\n      <td>0</td>\n      <td>0</td>\n      <td>0</td>\n      <td>0</td>\n      <td>0</td>\n      <td>0</td>\n      <td>90.600002</td>\n      <td>51.099998</td>\n      <td>52.341465</td>\n    </tr>\n  </tbody>\n</table>\n</div>"
     },
     "execution_count": 3,
     "metadata": {},
     "output_type": "execute_result"
    }
   ],
   "source": [
    "df = pd.read_csv(\"data/candy-data.csv\")\n",
    "df['sugarpercent'] *= 100\n",
    "df['pricepercent'] *= 100\n",
    "df.head()"
   ],
   "metadata": {
    "collapsed": false,
    "ExecuteTime": {
     "end_time": "2024-04-01T23:48:06.599336Z",
     "start_time": "2024-04-01T23:48:06.573418Z"
    }
   },
   "id": "12349889d3c5fdb2",
   "execution_count": 3
  },
  {
   "cell_type": "code",
   "outputs": [],
   "source": [
    "x_col1 = 'pricepercent'\n",
    "x_col2 = 'sugarpercent'\n",
    "y_col  = 'winpercent'"
   ],
   "metadata": {
    "collapsed": false,
    "ExecuteTime": {
     "end_time": "2024-04-01T23:48:08.162209Z",
     "start_time": "2024-04-01T23:48:08.159418Z"
    }
   },
   "id": "db65bf8373c8310f",
   "execution_count": 4
  },
  {
   "cell_type": "code",
   "outputs": [],
   "source": [
    "filtered1_df = df.copy()\n",
    "filtered1_df['couleur'] = (2 * (df['winpercent'] > 50).astype(int) + (df[x_col1] > 50).astype(int)).astype(str)\n",
    "filtered1_df['type'] = x_col1\n",
    "filtered1_df['x_col'] = df[x_col1]\n",
    "\n",
    "filtered2_df = df.copy()\n",
    "filtered2_df['couleur'] = (2 * (df['winpercent'] > 50).astype(int) + (df[x_col2] > 50).astype(int)).astype(str)\n",
    "filtered2_df['type'] = x_col2\n",
    "filtered2_df['x_col'] = df[x_col2]"
   ],
   "metadata": {
    "collapsed": false,
    "ExecuteTime": {
     "end_time": "2024-04-01T23:48:08.987785Z",
     "start_time": "2024-04-01T23:48:08.980358Z"
    }
   },
   "id": "326db684dd484a5",
   "execution_count": 5
  },
  {
   "cell_type": "code",
   "outputs": [
    {
     "data": {
      "text/plain": "                 competitorname  winpercent      x_col          type couleur\n39                       Mounds   47.829754  31.299999  sugarpercent       0\n45                  Now & Later   39.446800  22.000000  sugarpercent       0\n44                    Nik L Nip   22.445341  19.700000  sugarpercent       0\n77      Tootsie Roll Snack Bars   49.653503  32.499999  pricepercent       0\n30                    Lemonhead   39.141056   4.600000  sugarpercent       0\n..                          ...         ...        ...           ...     ...\n47                  Peanut M&Ms   69.483788  59.299999  sugarpercent       3\n33                        M&M's   66.574585  65.100002  pricepercent       3\n32          Peanut butter M&M's   71.465050  65.100002  pricepercent       3\n54  Reese's stuffed with pieces   72.887901  98.799998  sugarpercent       3\n0                     100 Grand   66.971725  86.000001  pricepercent       3\n\n[170 rows x 5 columns]",
      "text/html": "<div>\n<style scoped>\n    .dataframe tbody tr th:only-of-type {\n        vertical-align: middle;\n    }\n\n    .dataframe tbody tr th {\n        vertical-align: top;\n    }\n\n    .dataframe thead th {\n        text-align: right;\n    }\n</style>\n<table border=\"1\" class=\"dataframe\">\n  <thead>\n    <tr style=\"text-align: right;\">\n      <th></th>\n      <th>competitorname</th>\n      <th>winpercent</th>\n      <th>x_col</th>\n      <th>type</th>\n      <th>couleur</th>\n    </tr>\n  </thead>\n  <tbody>\n    <tr>\n      <th>39</th>\n      <td>Mounds</td>\n      <td>47.829754</td>\n      <td>31.299999</td>\n      <td>sugarpercent</td>\n      <td>0</td>\n    </tr>\n    <tr>\n      <th>45</th>\n      <td>Now &amp; Later</td>\n      <td>39.446800</td>\n      <td>22.000000</td>\n      <td>sugarpercent</td>\n      <td>0</td>\n    </tr>\n    <tr>\n      <th>44</th>\n      <td>Nik L Nip</td>\n      <td>22.445341</td>\n      <td>19.700000</td>\n      <td>sugarpercent</td>\n      <td>0</td>\n    </tr>\n    <tr>\n      <th>77</th>\n      <td>Tootsie Roll Snack Bars</td>\n      <td>49.653503</td>\n      <td>32.499999</td>\n      <td>pricepercent</td>\n      <td>0</td>\n    </tr>\n    <tr>\n      <th>30</th>\n      <td>Lemonhead</td>\n      <td>39.141056</td>\n      <td>4.600000</td>\n      <td>sugarpercent</td>\n      <td>0</td>\n    </tr>\n    <tr>\n      <th>...</th>\n      <td>...</td>\n      <td>...</td>\n      <td>...</td>\n      <td>...</td>\n      <td>...</td>\n    </tr>\n    <tr>\n      <th>47</th>\n      <td>Peanut M&amp;Ms</td>\n      <td>69.483788</td>\n      <td>59.299999</td>\n      <td>sugarpercent</td>\n      <td>3</td>\n    </tr>\n    <tr>\n      <th>33</th>\n      <td>M&amp;M's</td>\n      <td>66.574585</td>\n      <td>65.100002</td>\n      <td>pricepercent</td>\n      <td>3</td>\n    </tr>\n    <tr>\n      <th>32</th>\n      <td>Peanut butter M&amp;M's</td>\n      <td>71.465050</td>\n      <td>65.100002</td>\n      <td>pricepercent</td>\n      <td>3</td>\n    </tr>\n    <tr>\n      <th>54</th>\n      <td>Reese's stuffed with pieces</td>\n      <td>72.887901</td>\n      <td>98.799998</td>\n      <td>sugarpercent</td>\n      <td>3</td>\n    </tr>\n    <tr>\n      <th>0</th>\n      <td>100 Grand</td>\n      <td>66.971725</td>\n      <td>86.000001</td>\n      <td>pricepercent</td>\n      <td>3</td>\n    </tr>\n  </tbody>\n</table>\n<p>170 rows × 5 columns</p>\n</div>"
     },
     "execution_count": 6,
     "metadata": {},
     "output_type": "execute_result"
    }
   ],
   "source": [
    "filtered_df = pd.concat(\n",
    "    objs=[filtered1_df[['competitorname', y_col, 'x_col', 'type', 'couleur']], filtered2_df[['competitorname', y_col, 'x_col', 'type', 'couleur']]]\n",
    ").sort_values('couleur')\n",
    "filtered_df"
   ],
   "metadata": {
    "collapsed": false,
    "ExecuteTime": {
     "end_time": "2024-04-01T23:48:11.286578Z",
     "start_time": "2024-04-01T23:48:11.275548Z"
    }
   },
   "id": "4c4f34175bc0bfd4",
   "execution_count": 6
  },
  {
   "cell_type": "code",
   "outputs": [
    {
     "data": {
      "application/vnd.plotly.v1+json": {
       "data": [
        {
         "mode": "text",
         "showlegend": false,
         "text": "<b style=\"color:grey; font-size:1.3em\">Abordable & Apprécié</b>",
         "textfont": {
          "color": "rgba(80,80,80,0.6)"
         },
         "textposition": "middle center",
         "x": [
          25
         ],
         "xaxis": "x",
         "y": [
          96
         ],
         "yaxis": "y",
         "type": "scatter"
        },
        {
         "mode": "text",
         "showlegend": false,
         "text": "<b style=\"color:grey; font-size:1.3em\">Abordable & Pas apprécié</b>",
         "textfont": {
          "color": "rgba(80,80,80,0.6)"
         },
         "textposition": "middle center",
         "x": [
          25
         ],
         "xaxis": "x",
         "y": [
          46
         ],
         "yaxis": "y",
         "type": "scatter"
        },
        {
         "mode": "text",
         "showlegend": false,
         "text": "<b style=\"color:grey; font-size:1.3em\">Chère & Apprécié</b>",
         "textfont": {
          "color": "rgba(80,80,80,0.6)"
         },
         "textposition": "middle center",
         "x": [
          75
         ],
         "xaxis": "x",
         "y": [
          96
         ],
         "yaxis": "y",
         "type": "scatter"
        },
        {
         "mode": "text",
         "showlegend": false,
         "text": "<b style=\"color:grey; font-size:1.3em\">Chère & Pas apprécié</b>",
         "textfont": {
          "color": "rgba(80,80,80,0.6)"
         },
         "textposition": "middle center",
         "x": [
          75
         ],
         "xaxis": "x",
         "y": [
          46
         ],
         "yaxis": "y",
         "type": "scatter"
        },
        {
         "mode": "text",
         "showlegend": false,
         "text": "<b style=\"color:grey; font-size:1.3em\">Abordable & Apprécié</b>",
         "textfont": {
          "color": "rgba(80,80,80,0.6)"
         },
         "textposition": "middle center",
         "x": [
          25
         ],
         "xaxis": "x2",
         "y": [
          96
         ],
         "yaxis": "y2",
         "type": "scatter"
        },
        {
         "mode": "text",
         "showlegend": false,
         "text": "<b style=\"color:grey; font-size:1.3em\">Abordable & Pas apprécié</b>",
         "textfont": {
          "color": "rgba(80,80,80,0.6)"
         },
         "textposition": "middle center",
         "x": [
          25
         ],
         "xaxis": "x2",
         "y": [
          46
         ],
         "yaxis": "y2",
         "type": "scatter"
        },
        {
         "mode": "text",
         "showlegend": false,
         "text": "<b style=\"color:grey; font-size:1.3em\">Chère & Apprécié</b>",
         "textfont": {
          "color": "rgba(80,80,80,0.6)"
         },
         "textposition": "middle center",
         "x": [
          75
         ],
         "xaxis": "x2",
         "y": [
          96
         ],
         "yaxis": "y2",
         "type": "scatter"
        },
        {
         "mode": "text",
         "showlegend": false,
         "text": "<b style=\"color:grey; font-size:1.3em\">Chère & Pas apprécié</b>",
         "textfont": {
          "color": "rgba(80,80,80,0.6)"
         },
         "textposition": "middle center",
         "x": [
          75
         ],
         "xaxis": "x2",
         "y": [
          46
         ],
         "yaxis": "y2",
         "type": "scatter"
        },
        {
         "customdata": [
          [
           "Mounds"
          ],
          [
           "Now & Later"
          ],
          [
           "Nik L Nip"
          ],
          [
           "Lemonhead"
          ],
          [
           "Laffy Taffy"
          ],
          [
           "Jawbusters"
          ],
          [
           "Haribo Twin Snakes"
          ],
          [
           "Haribo Happy Cola"
          ],
          [
           "Fruit Chews"
          ],
          [
           "Chiclets"
          ],
          [
           "Payday"
          ],
          [
           "Boston Baked Beans"
          ],
          [
           "One quarter"
          ],
          [
           "One dime"
          ],
          [
           "Werther's Original Caramel"
          ],
          [
           "Super Bubble"
          ],
          [
           "Pixie Sticks"
          ],
          [
           "Sugar Daddy"
          ],
          [
           "Tootsie Roll Juniors"
          ],
          [
           "Tootsie Roll Snack Bars"
          ],
          [
           "Smarties candy"
          ],
          [
           "Nestle Smarties"
          ],
          [
           "Sixlets"
          ],
          [
           "Trolli Sour Bites"
          ],
          [
           "Twizzlers"
          ],
          [
           "Warheads"
          ],
          [
           "Welch's Fruit Snacks"
          ],
          [
           "Tootsie Roll Midgies"
          ]
         ],
         "hovertemplate": "\n<b style=\"font-size: 1.3em\">%{customdata}</b><br>\n%{yaxis.title.text}: %{y}<br>\n%{xaxis.title.text}: %{x}<br>\n<extra></extra>\n",
         "legendgroup": "0",
         "marker": {
          "color": "#1F77B4",
          "symbol": "circle"
         },
         "mode": "markers",
         "name": "Abordable, Pas aimé",
         "orientation": "v",
         "showlegend": true,
         "x": [
          31.299999,
          22.0,
          19.7,
          4.6,
          22.0,
          9.3000002,
          46.5,
          46.5,
          12.7,
          4.6,
          46.5,
          31.299999,
          1.0999999999999999,
          1.0999999999999999,
          18.6,
          16.2,
          9.3000002,
          41.800000999999995,
          31.299999,
          46.5,
          26.699999000000002,
          26.699999000000002,
          22.0,
          31.299999,
          22.0,
          9.3000002,
          31.299999,
          17.399999
         ],
         "xaxis": "x",
         "y": [
          47.829754,
          39.4468,
          22.445341,
          39.141056,
          41.389557,
          28.127439,
          42.178772,
          34.158958,
          43.088924,
          24.524988,
          46.296597,
          23.417824,
          46.116505,
          32.261086,
          41.904308,
          27.303865,
          37.722336,
          32.230995,
          43.068897,
          49.653503,
          45.995827,
          37.887188,
          34.722,
          47.173229,
          45.466282,
          39.011898,
          44.375519,
          45.736748
         ],
         "yaxis": "y",
         "type": "scatter"
        },
        {
         "customdata": [
          [
           "Tootsie Roll Snack Bars"
          ],
          [
           "Now & Later"
          ],
          [
           "Pixie Sticks"
          ],
          [
           "Red vines"
          ],
          [
           "Root Beer Barrels"
          ],
          [
           "Runts"
          ],
          [
           "Smarties candy"
          ],
          [
           "Werther's Original Caramel"
          ],
          [
           "Welch's Fruit Snacks"
          ],
          [
           "Warheads"
          ],
          [
           "Strawberry bon bons"
          ],
          [
           "Twizzlers"
          ],
          [
           "Sugar Daddy"
          ],
          [
           "Super Bubble"
          ],
          [
           "Trolli Sour Bites"
          ],
          [
           "Tootsie Pop"
          ],
          [
           "Sixlets"
          ],
          [
           "Mike & Ike"
          ],
          [
           "Tootsie Roll Midgies"
          ],
          [
           "Candy Corn"
          ],
          [
           "Fun Dip"
          ],
          [
           "Gobstopper"
          ],
          [
           "Chiclets"
          ],
          [
           "Haribo Happy Cola"
          ],
          [
           "Caramel Apple Pops"
          ],
          [
           "Haribo Twin Snakes"
          ],
          [
           "Fruit Chews"
          ],
          [
           "Dum Dums"
          ],
          [
           "One dime"
          ],
          [
           "Laffy Taffy"
          ],
          [
           "Lemonhead"
          ]
         ],
         "hovertemplate": "\n<b style=\"font-size: 1.3em\">%{customdata}</b><br>\n%{yaxis.title.text}: %{y}<br>\n%{xaxis.title.text}: %{x}<br>\n<extra></extra>\n",
         "legendgroup": "0",
         "marker": {
          "color": "#1F77B4",
          "symbol": "circle"
         },
         "mode": "markers",
         "name": "Abordable, Pas aimé",
         "orientation": "v",
         "showlegend": false,
         "x": [
          32.499999,
          32.499999,
          2.3,
          11.600000000000001,
          6.899999800000001,
          27.900001000000003,
          11.600000000000001,
          26.699999000000002,
          31.299999,
          11.600000000000001,
          5.7999998,
          11.600000000000001,
          32.499999,
          11.600000000000001,
          25.5,
          32.499999,
          8.1,
          32.499999,
          1.0999999999999999,
          32.499999,
          32.499999,
          45.300001,
          32.499999,
          46.5,
          32.499999,
          46.5,
          3.4000002,
          3.4000002,
          11.600000000000001,
          11.600000000000001,
          10.4
         ],
         "xaxis": "x2",
         "y": [
          49.653503,
          39.4468,
          37.722336,
          37.348522,
          29.703691,
          42.849144,
          45.995827,
          41.904308,
          44.375519,
          39.011898,
          34.578991,
          45.466282,
          32.230995,
          27.303865,
          47.173229,
          48.982651,
          34.722,
          46.411716,
          45.736748,
          38.010963,
          39.185505,
          46.783348,
          24.524988,
          34.158958,
          34.517681,
          42.178772,
          43.088924,
          39.460556,
          32.261086,
          41.389557,
          39.141056
         ],
         "yaxis": "y2",
         "type": "scatter"
        },
        {
         "customdata": [
          [
           "Tootsie Pop"
          ],
          [
           "Pop Rocks"
          ],
          [
           "Charleston Chew"
          ],
          [
           "Caramel Apple Pops"
          ],
          [
           "Chewey Lemonhead Fruit Mix"
          ],
          [
           "Dots"
          ],
          [
           "Dum Dums"
          ],
          [
           "Sugar Babies"
          ],
          [
           "Fun Dip"
          ],
          [
           "Gobstopper"
          ],
          [
           "Strawberry bon bons"
          ],
          [
           "Runts"
          ],
          [
           "Root Beer Barrels"
          ],
          [
           "Mike & Ike"
          ],
          [
           "Ring pop"
          ],
          [
           "Red vines"
          ],
          [
           "Candy Corn"
          ],
          [
           "Whoppers"
          ]
         ],
         "hovertemplate": "\n<b style=\"font-size: 1.3em\">%{customdata}</b><br>\n%{yaxis.title.text}: %{y}<br>\n%{xaxis.title.text}: %{x}<br>\n<extra></extra>\n",
         "legendgroup": "1",
         "marker": {
          "color": "#FF7F0E",
          "symbol": "circle"
         },
         "mode": "markers",
         "name": "Abordable, Aimé",
         "orientation": "v",
         "showlegend": true,
         "x": [
          60.399997000000006,
          60.399997000000006,
          60.399997000000006,
          60.399997000000006,
          73.199999,
          73.199999,
          73.199999,
          96.49999700000001,
          73.199999,
          90.600002,
          56.900001,
          87.199998,
          73.199999,
          87.199998,
          73.199999,
          58.099997,
          90.600002,
          87.199998
         ],
         "xaxis": "x",
         "y": [
          48.982651,
          41.265511,
          38.975037,
          34.517681,
          36.017628,
          42.272076,
          39.460556,
          33.43755,
          39.185505,
          46.783348,
          34.578991,
          42.849144,
          29.703691,
          46.411716,
          35.290756,
          37.348522,
          38.010963,
          49.524113
         ],
         "yaxis": "y",
         "type": "scatter"
        },
        {
         "customdata": [
          [
           "Whoppers"
          ],
          [
           "Tootsie Roll Juniors"
          ],
          [
           "Ring pop"
          ],
          [
           "Charleston Chew"
          ],
          [
           "Pop Rocks"
          ],
          [
           "Boston Baked Beans"
          ],
          [
           "Mounds"
          ],
          [
           "Nestle Smarties"
          ],
          [
           "Chewey Lemonhead Fruit Mix"
          ],
          [
           "Dots"
          ],
          [
           "One quarter"
          ],
          [
           "Nik L Nip"
          ],
          [
           "Jawbusters"
          ],
          [
           "Sugar Babies"
          ],
          [
           "Payday"
          ]
         ],
         "hovertemplate": "\n<b style=\"font-size: 1.3em\">%{customdata}</b><br>\n%{yaxis.title.text}: %{y}<br>\n%{xaxis.title.text}: %{x}<br>\n<extra></extra>\n",
         "legendgroup": "1",
         "marker": {
          "color": "#FF7F0E",
          "symbol": "circle"
         },
         "mode": "markers",
         "name": "Abordable, Aimé",
         "orientation": "v",
         "showlegend": false,
         "x": [
          84.799999,
          51.099998,
          96.49999700000001,
          51.099998,
          83.700001,
          51.099998,
          86.000001,
          97.600001,
          51.099998,
          51.099998,
          51.099998,
          97.600001,
          51.099998,
          76.700002,
          76.700002
         ],
         "xaxis": "x2",
         "y": [
          49.524113,
          43.068897,
          35.290756,
          38.975037,
          41.265511,
          23.417824,
          47.829754,
          37.887188,
          36.017628,
          42.272076,
          46.116505,
          22.445341,
          28.127439,
          33.43755,
          46.296597
         ],
         "yaxis": "y2",
         "type": "scatter"
        },
        {
         "customdata": [
          [
           "Kit Kat"
          ],
          [
           "Junior Mints"
          ],
          [
           "Starburst"
          ],
          [
           "Hershey's Krackel"
          ],
          [
           "Sour Patch Tricksters"
          ],
          [
           "Hershey's Special Dark"
          ],
          [
           "Sour Patch Kids"
          ],
          [
           "Milk Duds"
          ],
          [
           "Mr Good Bar"
          ],
          [
           "Nestle Crunch"
          ],
          [
           "Reese's Miniatures"
          ],
          [
           "Lifesavers big ring gummies"
          ],
          [
           "Hershey's Milk Chocolate"
          ],
          [
           "Reese's pieces"
          ],
          [
           "Hershey's Kisses"
          ],
          [
           "Almond Joy"
          ],
          [
           "Haribo Gold Bears"
          ],
          [
           "Haribo Sour Bears"
          ]
         ],
         "hovertemplate": "\n<b style=\"font-size: 1.3em\">%{customdata}</b><br>\n%{yaxis.title.text}: %{y}<br>\n%{xaxis.title.text}: %{x}<br>\n<extra></extra>\n",
         "legendgroup": "2",
         "marker": {
          "color": "#2CA02C",
          "symbol": "circle"
         },
         "mode": "markers",
         "name": "Chère, Pas aimé",
         "orientation": "v",
         "showlegend": true,
         "x": [
          31.299999,
          19.7,
          15.099999,
          43.000001,
          6.899999800000001,
          43.000001,
          6.899999800000001,
          30.199999,
          31.299999,
          31.299999,
          3.4000002,
          26.699999000000002,
          43.000001,
          40.599999,
          12.7,
          46.5,
          46.5,
          46.5
         ],
         "xaxis": "x",
         "y": [
          76.7686,
          57.21925,
          67.037628,
          62.284481,
          52.825947,
          59.236122,
          59.863998,
          55.064072,
          54.526451,
          66.47068,
          81.866257,
          52.911392,
          56.490501,
          73.43499,
          55.375454,
          50.347546,
          57.11974,
          51.41243
         ],
         "yaxis": "y",
         "type": "scatter"
        },
        {
         "customdata": [
          [
           "Nerds"
          ],
          [
           "Hershey's Kisses"
          ],
          [
           "Milky Way Midnight"
          ],
          [
           "Lifesavers big ring gummies"
          ],
          [
           "Sour Patch Tricksters"
          ],
          [
           "Starburst"
          ],
          [
           "Sour Patch Kids"
          ],
          [
           "Skittles original"
          ],
          [
           "Skittles wildberry"
          ],
          [
           "Reese's Miniatures"
          ],
          [
           "Haribo Gold Bears"
          ],
          [
           "Haribo Sour Bears"
          ]
         ],
         "hovertemplate": "\n<b style=\"font-size: 1.3em\">%{customdata}</b><br>\n%{yaxis.title.text}: %{y}<br>\n%{xaxis.title.text}: %{x}<br>\n<extra></extra>\n",
         "legendgroup": "2",
         "marker": {
          "color": "#2CA02C",
          "symbol": "circle"
         },
         "mode": "markers",
         "name": "Chère, Pas aimé",
         "orientation": "v",
         "showlegend": false,
         "x": [
          32.499999,
          9.3000002,
          44.100001,
          27.900001000000003,
          11.600000000000001,
          22.0,
          11.600000000000001,
          22.0,
          22.0,
          27.900001000000003,
          46.5,
          46.5
         ],
         "xaxis": "x2",
         "y": [
          55.354046,
          55.375454,
          60.800701,
          52.911392,
          52.825947,
          67.037628,
          59.863998,
          63.08514,
          55.103695,
          81.866257,
          57.11974,
          51.41243
         ],
         "yaxis": "y2",
         "type": "scatter"
        },
        {
         "customdata": [
          [
           "Rolo"
          ],
          [
           "Skittles original"
          ],
          [
           "Twix"
          ],
          [
           "Snickers"
          ],
          [
           "Snickers Crisper"
          ],
          [
           "Swedish Fish"
          ],
          [
           "Skittles wildberry"
          ],
          [
           "Milky Way Simply Caramel"
          ],
          [
           "Reese's Peanut Butter cup"
          ],
          [
           "100 Grand"
          ],
          [
           "3 Musketeers"
          ],
          [
           "Air Heads"
          ],
          [
           "Baby Ruth"
          ],
          [
           "Peanut butter M&M's"
          ],
          [
           "M&M's"
          ],
          [
           "Milky Way"
          ],
          [
           "Milky Way Midnight"
          ],
          [
           "Nerds"
          ],
          [
           "Nestle Butterfinger"
          ],
          [
           "Peanut M&Ms"
          ],
          [
           "Reese's stuffed with pieces"
          ]
         ],
         "hovertemplate": "\n<b style=\"font-size: 1.3em\">%{customdata}</b><br>\n%{yaxis.title.text}: %{y}<br>\n%{xaxis.title.text}: %{x}<br>\n<extra></extra>\n",
         "legendgroup": "3",
         "marker": {
          "color": "#D62728",
          "symbol": "circle"
         },
         "mode": "markers",
         "name": "Chère, Aimé",
         "orientation": "v",
         "showlegend": true,
         "x": [
          86.000001,
          94.099998,
          54.6,
          54.6,
          60.399997000000006,
          60.399997000000006,
          94.099998,
          96.49999700000001,
          72.000003,
          73.199999,
          60.399997000000006,
          90.600002,
          60.399997000000006,
          82.499999,
          82.499999,
          60.399997000000006,
          73.199999,
          84.799999,
          60.399997000000006,
          59.299999,
          98.799998
         ],
         "xaxis": "x",
         "y": [
          65.716286,
          63.08514,
          81.642914,
          76.673782,
          59.529251,
          54.861111,
          55.103695,
          64.35334,
          84.18029,
          66.971725,
          67.602936,
          52.341465,
          56.914547,
          71.46505,
          66.574585,
          73.099556,
          60.800701,
          55.354046,
          70.735641,
          69.483788,
          72.887901
         ],
         "yaxis": "y",
         "type": "scatter"
        },
        {
         "customdata": [
          [
           "Junior Mints"
          ],
          [
           "Hershey's Special Dark"
          ],
          [
           "3 Musketeers"
          ],
          [
           "Air Heads"
          ],
          [
           "Hershey's Krackel"
          ],
          [
           "Hershey's Milk Chocolate"
          ],
          [
           "Kit Kat"
          ],
          [
           "Almond Joy"
          ],
          [
           "Baby Ruth"
          ],
          [
           "Swedish Fish"
          ],
          [
           "Twix"
          ],
          [
           "Snickers Crisper"
          ],
          [
           "Snickers"
          ],
          [
           "Rolo"
          ],
          [
           "Reese's stuffed with pieces"
          ],
          [
           "Reese's pieces"
          ],
          [
           "Reese's Peanut Butter cup"
          ],
          [
           "Peanut M&Ms"
          ],
          [
           "Nestle Crunch"
          ],
          [
           "Nestle Butterfinger"
          ],
          [
           "Mr Good Bar"
          ],
          [
           "Milky Way Simply Caramel"
          ],
          [
           "Milky Way"
          ],
          [
           "Milk Duds"
          ],
          [
           "M&M's"
          ],
          [
           "Peanut butter M&M's"
          ],
          [
           "100 Grand"
          ]
         ],
         "hovertemplate": "\n<b style=\"font-size: 1.3em\">%{customdata}</b><br>\n%{yaxis.title.text}: %{y}<br>\n%{xaxis.title.text}: %{x}<br>\n<extra></extra>\n",
         "legendgroup": "3",
         "marker": {
          "color": "#D62728",
          "symbol": "circle"
         },
         "mode": "markers",
         "name": "Chère, Aimé",
         "orientation": "v",
         "showlegend": false,
         "x": [
          51.099998,
          91.799998,
          51.099998,
          51.099998,
          91.799998,
          91.799998,
          51.099998,
          76.700002,
          76.700002,
          75.5,
          90.600002,
          65.100002,
          65.100002,
          86.000001,
          65.100002,
          65.100002,
          65.100002,
          65.100002,
          76.700002,
          76.700002,
          91.799998,
          86.000001,
          65.100002,
          51.099998,
          65.100002,
          65.100002,
          86.000001
         ],
         "xaxis": "x2",
         "y": [
          57.21925,
          59.236122,
          67.602936,
          52.341465,
          62.284481,
          56.490501,
          76.7686,
          50.347546,
          56.914547,
          54.861111,
          81.642914,
          59.529251,
          76.673782,
          65.716286,
          72.887901,
          73.43499,
          84.18029,
          69.483788,
          66.47068,
          70.735641,
          54.526451,
          64.35334,
          73.099556,
          55.064072,
          66.574585,
          71.46505,
          66.971725
         ],
         "yaxis": "y2",
         "type": "scatter"
        }
       ],
       "layout": {
        "template": {
         "data": {
          "barpolar": [
           {
            "marker": {
             "line": {
              "color": "white",
              "width": 0.5
             },
             "pattern": {
              "fillmode": "overlay",
              "size": 10,
              "solidity": 0.2
             }
            },
            "type": "barpolar"
           }
          ],
          "bar": [
           {
            "error_x": {
             "color": "rgb(36,36,36)"
            },
            "error_y": {
             "color": "rgb(36,36,36)"
            },
            "marker": {
             "line": {
              "color": "white",
              "width": 0.5
             },
             "pattern": {
              "fillmode": "overlay",
              "size": 10,
              "solidity": 0.2
             }
            },
            "type": "bar"
           }
          ],
          "carpet": [
           {
            "aaxis": {
             "endlinecolor": "rgb(36,36,36)",
             "gridcolor": "white",
             "linecolor": "white",
             "minorgridcolor": "white",
             "startlinecolor": "rgb(36,36,36)"
            },
            "baxis": {
             "endlinecolor": "rgb(36,36,36)",
             "gridcolor": "white",
             "linecolor": "white",
             "minorgridcolor": "white",
             "startlinecolor": "rgb(36,36,36)"
            },
            "type": "carpet"
           }
          ],
          "choropleth": [
           {
            "colorbar": {
             "outlinewidth": 1,
             "tickcolor": "rgb(36,36,36)",
             "ticks": "outside"
            },
            "type": "choropleth"
           }
          ],
          "contourcarpet": [
           {
            "colorbar": {
             "outlinewidth": 1,
             "tickcolor": "rgb(36,36,36)",
             "ticks": "outside"
            },
            "type": "contourcarpet"
           }
          ],
          "contour": [
           {
            "colorbar": {
             "outlinewidth": 1,
             "tickcolor": "rgb(36,36,36)",
             "ticks": "outside"
            },
            "colorscale": [
             [
              0.0,
              "#440154"
             ],
             [
              0.1111111111111111,
              "#482878"
             ],
             [
              0.2222222222222222,
              "#3e4989"
             ],
             [
              0.3333333333333333,
              "#31688e"
             ],
             [
              0.4444444444444444,
              "#26828e"
             ],
             [
              0.5555555555555556,
              "#1f9e89"
             ],
             [
              0.6666666666666666,
              "#35b779"
             ],
             [
              0.7777777777777778,
              "#6ece58"
             ],
             [
              0.8888888888888888,
              "#b5de2b"
             ],
             [
              1.0,
              "#fde725"
             ]
            ],
            "type": "contour"
           }
          ],
          "heatmapgl": [
           {
            "colorbar": {
             "outlinewidth": 1,
             "tickcolor": "rgb(36,36,36)",
             "ticks": "outside"
            },
            "colorscale": [
             [
              0.0,
              "#440154"
             ],
             [
              0.1111111111111111,
              "#482878"
             ],
             [
              0.2222222222222222,
              "#3e4989"
             ],
             [
              0.3333333333333333,
              "#31688e"
             ],
             [
              0.4444444444444444,
              "#26828e"
             ],
             [
              0.5555555555555556,
              "#1f9e89"
             ],
             [
              0.6666666666666666,
              "#35b779"
             ],
             [
              0.7777777777777778,
              "#6ece58"
             ],
             [
              0.8888888888888888,
              "#b5de2b"
             ],
             [
              1.0,
              "#fde725"
             ]
            ],
            "type": "heatmapgl"
           }
          ],
          "heatmap": [
           {
            "colorbar": {
             "outlinewidth": 1,
             "tickcolor": "rgb(36,36,36)",
             "ticks": "outside"
            },
            "colorscale": [
             [
              0.0,
              "#440154"
             ],
             [
              0.1111111111111111,
              "#482878"
             ],
             [
              0.2222222222222222,
              "#3e4989"
             ],
             [
              0.3333333333333333,
              "#31688e"
             ],
             [
              0.4444444444444444,
              "#26828e"
             ],
             [
              0.5555555555555556,
              "#1f9e89"
             ],
             [
              0.6666666666666666,
              "#35b779"
             ],
             [
              0.7777777777777778,
              "#6ece58"
             ],
             [
              0.8888888888888888,
              "#b5de2b"
             ],
             [
              1.0,
              "#fde725"
             ]
            ],
            "type": "heatmap"
           }
          ],
          "histogram2dcontour": [
           {
            "colorbar": {
             "outlinewidth": 1,
             "tickcolor": "rgb(36,36,36)",
             "ticks": "outside"
            },
            "colorscale": [
             [
              0.0,
              "#440154"
             ],
             [
              0.1111111111111111,
              "#482878"
             ],
             [
              0.2222222222222222,
              "#3e4989"
             ],
             [
              0.3333333333333333,
              "#31688e"
             ],
             [
              0.4444444444444444,
              "#26828e"
             ],
             [
              0.5555555555555556,
              "#1f9e89"
             ],
             [
              0.6666666666666666,
              "#35b779"
             ],
             [
              0.7777777777777778,
              "#6ece58"
             ],
             [
              0.8888888888888888,
              "#b5de2b"
             ],
             [
              1.0,
              "#fde725"
             ]
            ],
            "type": "histogram2dcontour"
           }
          ],
          "histogram2d": [
           {
            "colorbar": {
             "outlinewidth": 1,
             "tickcolor": "rgb(36,36,36)",
             "ticks": "outside"
            },
            "colorscale": [
             [
              0.0,
              "#440154"
             ],
             [
              0.1111111111111111,
              "#482878"
             ],
             [
              0.2222222222222222,
              "#3e4989"
             ],
             [
              0.3333333333333333,
              "#31688e"
             ],
             [
              0.4444444444444444,
              "#26828e"
             ],
             [
              0.5555555555555556,
              "#1f9e89"
             ],
             [
              0.6666666666666666,
              "#35b779"
             ],
             [
              0.7777777777777778,
              "#6ece58"
             ],
             [
              0.8888888888888888,
              "#b5de2b"
             ],
             [
              1.0,
              "#fde725"
             ]
            ],
            "type": "histogram2d"
           }
          ],
          "histogram": [
           {
            "marker": {
             "line": {
              "color": "white",
              "width": 0.6
             }
            },
            "type": "histogram"
           }
          ],
          "mesh3d": [
           {
            "colorbar": {
             "outlinewidth": 1,
             "tickcolor": "rgb(36,36,36)",
             "ticks": "outside"
            },
            "type": "mesh3d"
           }
          ],
          "parcoords": [
           {
            "line": {
             "colorbar": {
              "outlinewidth": 1,
              "tickcolor": "rgb(36,36,36)",
              "ticks": "outside"
             }
            },
            "type": "parcoords"
           }
          ],
          "pie": [
           {
            "automargin": true,
            "type": "pie"
           }
          ],
          "scatter3d": [
           {
            "line": {
             "colorbar": {
              "outlinewidth": 1,
              "tickcolor": "rgb(36,36,36)",
              "ticks": "outside"
             }
            },
            "marker": {
             "colorbar": {
              "outlinewidth": 1,
              "tickcolor": "rgb(36,36,36)",
              "ticks": "outside"
             }
            },
            "type": "scatter3d"
           }
          ],
          "scattercarpet": [
           {
            "marker": {
             "colorbar": {
              "outlinewidth": 1,
              "tickcolor": "rgb(36,36,36)",
              "ticks": "outside"
             }
            },
            "type": "scattercarpet"
           }
          ],
          "scattergeo": [
           {
            "marker": {
             "colorbar": {
              "outlinewidth": 1,
              "tickcolor": "rgb(36,36,36)",
              "ticks": "outside"
             }
            },
            "type": "scattergeo"
           }
          ],
          "scattergl": [
           {
            "marker": {
             "colorbar": {
              "outlinewidth": 1,
              "tickcolor": "rgb(36,36,36)",
              "ticks": "outside"
             }
            },
            "type": "scattergl"
           }
          ],
          "scattermapbox": [
           {
            "marker": {
             "colorbar": {
              "outlinewidth": 1,
              "tickcolor": "rgb(36,36,36)",
              "ticks": "outside"
             }
            },
            "type": "scattermapbox"
           }
          ],
          "scatterpolargl": [
           {
            "marker": {
             "colorbar": {
              "outlinewidth": 1,
              "tickcolor": "rgb(36,36,36)",
              "ticks": "outside"
             }
            },
            "type": "scatterpolargl"
           }
          ],
          "scatterpolar": [
           {
            "marker": {
             "colorbar": {
              "outlinewidth": 1,
              "tickcolor": "rgb(36,36,36)",
              "ticks": "outside"
             }
            },
            "type": "scatterpolar"
           }
          ],
          "scatter": [
           {
            "fillpattern": {
             "fillmode": "overlay",
             "size": 10,
             "solidity": 0.2
            },
            "type": "scatter"
           }
          ],
          "scatterternary": [
           {
            "marker": {
             "colorbar": {
              "outlinewidth": 1,
              "tickcolor": "rgb(36,36,36)",
              "ticks": "outside"
             }
            },
            "type": "scatterternary"
           }
          ],
          "surface": [
           {
            "colorbar": {
             "outlinewidth": 1,
             "tickcolor": "rgb(36,36,36)",
             "ticks": "outside"
            },
            "colorscale": [
             [
              0.0,
              "#440154"
             ],
             [
              0.1111111111111111,
              "#482878"
             ],
             [
              0.2222222222222222,
              "#3e4989"
             ],
             [
              0.3333333333333333,
              "#31688e"
             ],
             [
              0.4444444444444444,
              "#26828e"
             ],
             [
              0.5555555555555556,
              "#1f9e89"
             ],
             [
              0.6666666666666666,
              "#35b779"
             ],
             [
              0.7777777777777778,
              "#6ece58"
             ],
             [
              0.8888888888888888,
              "#b5de2b"
             ],
             [
              1.0,
              "#fde725"
             ]
            ],
            "type": "surface"
           }
          ],
          "table": [
           {
            "cells": {
             "fill": {
              "color": "rgb(237,237,237)"
             },
             "line": {
              "color": "white"
             }
            },
            "header": {
             "fill": {
              "color": "rgb(217,217,217)"
             },
             "line": {
              "color": "white"
             }
            },
            "type": "table"
           }
          ]
         },
         "layout": {
          "annotationdefaults": {
           "arrowhead": 0,
           "arrowwidth": 1
          },
          "autotypenumbers": "strict",
          "coloraxis": {
           "colorbar": {
            "outlinewidth": 1,
            "tickcolor": "rgb(36,36,36)",
            "ticks": "outside"
           }
          },
          "colorscale": {
           "diverging": [
            [
             0.0,
             "rgb(103,0,31)"
            ],
            [
             0.1,
             "rgb(178,24,43)"
            ],
            [
             0.2,
             "rgb(214,96,77)"
            ],
            [
             0.3,
             "rgb(244,165,130)"
            ],
            [
             0.4,
             "rgb(253,219,199)"
            ],
            [
             0.5,
             "rgb(247,247,247)"
            ],
            [
             0.6,
             "rgb(209,229,240)"
            ],
            [
             0.7,
             "rgb(146,197,222)"
            ],
            [
             0.8,
             "rgb(67,147,195)"
            ],
            [
             0.9,
             "rgb(33,102,172)"
            ],
            [
             1.0,
             "rgb(5,48,97)"
            ]
           ],
           "sequential": [
            [
             0.0,
             "#440154"
            ],
            [
             0.1111111111111111,
             "#482878"
            ],
            [
             0.2222222222222222,
             "#3e4989"
            ],
            [
             0.3333333333333333,
             "#31688e"
            ],
            [
             0.4444444444444444,
             "#26828e"
            ],
            [
             0.5555555555555556,
             "#1f9e89"
            ],
            [
             0.6666666666666666,
             "#35b779"
            ],
            [
             0.7777777777777778,
             "#6ece58"
            ],
            [
             0.8888888888888888,
             "#b5de2b"
            ],
            [
             1.0,
             "#fde725"
            ]
           ],
           "sequentialminus": [
            [
             0.0,
             "#440154"
            ],
            [
             0.1111111111111111,
             "#482878"
            ],
            [
             0.2222222222222222,
             "#3e4989"
            ],
            [
             0.3333333333333333,
             "#31688e"
            ],
            [
             0.4444444444444444,
             "#26828e"
            ],
            [
             0.5555555555555556,
             "#1f9e89"
            ],
            [
             0.6666666666666666,
             "#35b779"
            ],
            [
             0.7777777777777778,
             "#6ece58"
            ],
            [
             0.8888888888888888,
             "#b5de2b"
            ],
            [
             1.0,
             "#fde725"
            ]
           ]
          },
          "colorway": [
           "#1F77B4",
           "#FF7F0E",
           "#2CA02C",
           "#D62728",
           "#9467BD",
           "#8C564B",
           "#E377C2",
           "#7F7F7F",
           "#BCBD22",
           "#17BECF"
          ],
          "font": {
           "color": "rgb(36,36,36)"
          },
          "geo": {
           "bgcolor": "white",
           "lakecolor": "white",
           "landcolor": "white",
           "showlakes": true,
           "showland": true,
           "subunitcolor": "white"
          },
          "hoverlabel": {
           "align": "left"
          },
          "hovermode": "closest",
          "mapbox": {
           "style": "light"
          },
          "paper_bgcolor": "white",
          "plot_bgcolor": "white",
          "polar": {
           "angularaxis": {
            "gridcolor": "rgb(232,232,232)",
            "linecolor": "rgb(36,36,36)",
            "showgrid": false,
            "showline": true,
            "ticks": "outside"
           },
           "bgcolor": "white",
           "radialaxis": {
            "gridcolor": "rgb(232,232,232)",
            "linecolor": "rgb(36,36,36)",
            "showgrid": false,
            "showline": true,
            "ticks": "outside"
           }
          },
          "scene": {
           "xaxis": {
            "backgroundcolor": "white",
            "gridcolor": "rgb(232,232,232)",
            "gridwidth": 2,
            "linecolor": "rgb(36,36,36)",
            "showbackground": true,
            "showgrid": false,
            "showline": true,
            "ticks": "outside",
            "zeroline": false,
            "zerolinecolor": "rgb(36,36,36)"
           },
           "yaxis": {
            "backgroundcolor": "white",
            "gridcolor": "rgb(232,232,232)",
            "gridwidth": 2,
            "linecolor": "rgb(36,36,36)",
            "showbackground": true,
            "showgrid": false,
            "showline": true,
            "ticks": "outside",
            "zeroline": false,
            "zerolinecolor": "rgb(36,36,36)"
           },
           "zaxis": {
            "backgroundcolor": "white",
            "gridcolor": "rgb(232,232,232)",
            "gridwidth": 2,
            "linecolor": "rgb(36,36,36)",
            "showbackground": true,
            "showgrid": false,
            "showline": true,
            "ticks": "outside",
            "zeroline": false,
            "zerolinecolor": "rgb(36,36,36)"
           }
          },
          "shapedefaults": {
           "fillcolor": "black",
           "line": {
            "width": 0
           },
           "opacity": 0.3
          },
          "ternary": {
           "aaxis": {
            "gridcolor": "rgb(232,232,232)",
            "linecolor": "rgb(36,36,36)",
            "showgrid": false,
            "showline": true,
            "ticks": "outside"
           },
           "baxis": {
            "gridcolor": "rgb(232,232,232)",
            "linecolor": "rgb(36,36,36)",
            "showgrid": false,
            "showline": true,
            "ticks": "outside"
           },
           "bgcolor": "white",
           "caxis": {
            "gridcolor": "rgb(232,232,232)",
            "linecolor": "rgb(36,36,36)",
            "showgrid": false,
            "showline": true,
            "ticks": "outside"
           }
          },
          "title": {
           "x": 0.05
          },
          "xaxis": {
           "automargin": true,
           "gridcolor": "rgb(232,232,232)",
           "linecolor": "rgb(36,36,36)",
           "showgrid": false,
           "showline": true,
           "ticks": "outside",
           "title": {
            "standoff": 15
           },
           "zeroline": false,
           "zerolinecolor": "rgb(36,36,36)"
          },
          "yaxis": {
           "automargin": true,
           "gridcolor": "rgb(232,232,232)",
           "linecolor": "rgb(36,36,36)",
           "showgrid": false,
           "showline": true,
           "ticks": "outside",
           "title": {
            "standoff": 15
           },
           "zeroline": false,
           "zerolinecolor": "rgb(36,36,36)"
          }
         }
        },
        "xaxis": {
         "anchor": "y",
         "domain": [
          0.0,
          0.49
         ],
         "title": {
          "text": "Prix relatif (%)"
         },
         "range": [
          0,
          100
         ]
        },
        "yaxis": {
         "anchor": "x",
         "domain": [
          0.0,
          1.0
         ],
         "title": {
          "text": "Appréciation (%)"
         },
         "range": [
          0,
          100
         ]
        },
        "xaxis2": {
         "anchor": "y2",
         "domain": [
          0.51,
          1.0
         ],
         "matches": "x",
         "title": {
          "text": "Proportion de sucre (%)"
         },
         "range": [
          0,
          100
         ]
        },
        "yaxis2": {
         "anchor": "x2",
         "domain": [
          0.0,
          1.0
         ],
         "matches": "y",
         "showticklabels": false,
         "range": [
          0,
          100
         ]
        },
        "annotations": [
         {
          "showarrow": false,
          "text": "",
          "x": 0.245,
          "xanchor": "center",
          "xref": "paper",
          "y": 1.0,
          "yanchor": "bottom",
          "yref": "paper"
         },
         {
          "showarrow": false,
          "text": "",
          "x": 0.755,
          "xanchor": "center",
          "xref": "paper",
          "y": 1.0,
          "yanchor": "bottom",
          "yref": "paper"
         }
        ],
        "legend": {
         "title": {
          "text": ""
         },
         "tracegroupgap": 0,
         "orientation": "h",
         "yanchor": "bottom",
         "y": 1.02,
         "xanchor": "center",
         "x": 0.5,
         "itemsizing": "constant"
        },
        "margin": {
         "t": 60
        },
        "shapes": [
         {
          "layer": "below",
          "line": {
           "color": "grey",
           "width": 3
          },
          "type": "line",
          "x0": 50,
          "x1": 50,
          "xref": "x",
          "y0": 0,
          "y1": 1,
          "yref": "y domain"
         },
         {
          "layer": "below",
          "line": {
           "color": "grey",
           "width": 3
          },
          "type": "line",
          "x0": 50,
          "x1": 50,
          "xref": "x2",
          "y0": 0,
          "y1": 1,
          "yref": "y2 domain"
         },
         {
          "layer": "below",
          "line": {
           "color": "grey",
           "width": 3
          },
          "type": "line",
          "x0": 0,
          "x1": 1,
          "xref": "x domain",
          "y0": 50,
          "y1": 50,
          "yref": "y"
         },
         {
          "layer": "below",
          "line": {
           "color": "grey",
           "width": 3
          },
          "type": "line",
          "x0": 0,
          "x1": 1,
          "xref": "x2 domain",
          "y0": 50,
          "y1": 50,
          "yref": "y2"
         }
        ]
       },
       "config": {
        "plotlyServerURL": "https://plot.ly"
       }
      },
      "text/html": "<div>                            <div id=\"37985826-4eb7-40d9-9967-3bcd669e12cd\" class=\"plotly-graph-div\" style=\"height:525px; width:100%;\"></div>            <script type=\"text/javascript\">                require([\"plotly\"], function(Plotly) {                    window.PLOTLYENV=window.PLOTLYENV || {};                                    if (document.getElementById(\"37985826-4eb7-40d9-9967-3bcd669e12cd\")) {                    Plotly.newPlot(                        \"37985826-4eb7-40d9-9967-3bcd669e12cd\",                        [{\"mode\":\"text\",\"showlegend\":false,\"text\":\"<b style=\\\"color:grey; font-size:1.3em\\\">Abordable & Appr\\u00e9ci\\u00e9</b>\",\"textfont\":{\"color\":\"rgba(80,80,80,0.6)\"},\"textposition\":\"middle center\",\"x\":[25],\"xaxis\":\"x\",\"y\":[96],\"yaxis\":\"y\",\"type\":\"scatter\"},{\"mode\":\"text\",\"showlegend\":false,\"text\":\"<b style=\\\"color:grey; font-size:1.3em\\\">Abordable & Pas appr\\u00e9ci\\u00e9</b>\",\"textfont\":{\"color\":\"rgba(80,80,80,0.6)\"},\"textposition\":\"middle center\",\"x\":[25],\"xaxis\":\"x\",\"y\":[46],\"yaxis\":\"y\",\"type\":\"scatter\"},{\"mode\":\"text\",\"showlegend\":false,\"text\":\"<b style=\\\"color:grey; font-size:1.3em\\\">Ch\\u00e8re & Appr\\u00e9ci\\u00e9</b>\",\"textfont\":{\"color\":\"rgba(80,80,80,0.6)\"},\"textposition\":\"middle center\",\"x\":[75],\"xaxis\":\"x\",\"y\":[96],\"yaxis\":\"y\",\"type\":\"scatter\"},{\"mode\":\"text\",\"showlegend\":false,\"text\":\"<b style=\\\"color:grey; font-size:1.3em\\\">Ch\\u00e8re & Pas appr\\u00e9ci\\u00e9</b>\",\"textfont\":{\"color\":\"rgba(80,80,80,0.6)\"},\"textposition\":\"middle center\",\"x\":[75],\"xaxis\":\"x\",\"y\":[46],\"yaxis\":\"y\",\"type\":\"scatter\"},{\"mode\":\"text\",\"showlegend\":false,\"text\":\"<b style=\\\"color:grey; font-size:1.3em\\\">Abordable & Appr\\u00e9ci\\u00e9</b>\",\"textfont\":{\"color\":\"rgba(80,80,80,0.6)\"},\"textposition\":\"middle center\",\"x\":[25],\"xaxis\":\"x2\",\"y\":[96],\"yaxis\":\"y2\",\"type\":\"scatter\"},{\"mode\":\"text\",\"showlegend\":false,\"text\":\"<b style=\\\"color:grey; font-size:1.3em\\\">Abordable & Pas appr\\u00e9ci\\u00e9</b>\",\"textfont\":{\"color\":\"rgba(80,80,80,0.6)\"},\"textposition\":\"middle center\",\"x\":[25],\"xaxis\":\"x2\",\"y\":[46],\"yaxis\":\"y2\",\"type\":\"scatter\"},{\"mode\":\"text\",\"showlegend\":false,\"text\":\"<b style=\\\"color:grey; font-size:1.3em\\\">Ch\\u00e8re & Appr\\u00e9ci\\u00e9</b>\",\"textfont\":{\"color\":\"rgba(80,80,80,0.6)\"},\"textposition\":\"middle center\",\"x\":[75],\"xaxis\":\"x2\",\"y\":[96],\"yaxis\":\"y2\",\"type\":\"scatter\"},{\"mode\":\"text\",\"showlegend\":false,\"text\":\"<b style=\\\"color:grey; font-size:1.3em\\\">Ch\\u00e8re & Pas appr\\u00e9ci\\u00e9</b>\",\"textfont\":{\"color\":\"rgba(80,80,80,0.6)\"},\"textposition\":\"middle center\",\"x\":[75],\"xaxis\":\"x2\",\"y\":[46],\"yaxis\":\"y2\",\"type\":\"scatter\"},{\"customdata\":[[\"Mounds\"],[\"Now & Later\"],[\"Nik L Nip\"],[\"Lemonhead\"],[\"Laffy Taffy\"],[\"Jawbusters\"],[\"Haribo Twin Snakes\"],[\"Haribo Happy Cola\"],[\"Fruit Chews\"],[\"Chiclets\"],[\"Payday\"],[\"Boston Baked Beans\"],[\"One quarter\"],[\"One dime\"],[\"Werther's Original Caramel\"],[\"Super Bubble\"],[\"Pixie Sticks\"],[\"Sugar Daddy\"],[\"Tootsie Roll Juniors\"],[\"Tootsie Roll Snack Bars\"],[\"Smarties candy\"],[\"Nestle Smarties\"],[\"Sixlets\"],[\"Trolli Sour Bites\"],[\"Twizzlers\"],[\"Warheads\"],[\"Welch's Fruit Snacks\"],[\"Tootsie Roll Midgies\"]],\"hovertemplate\":\"\\n<b style=\\\"font-size: 1.3em\\\">%{customdata}</b><br>\\n%{yaxis.title.text}: %{y}<br>\\n%{xaxis.title.text}: %{x}<br>\\n<extra></extra>\\n\",\"legendgroup\":\"0\",\"marker\":{\"color\":\"#1F77B4\",\"symbol\":\"circle\"},\"mode\":\"markers\",\"name\":\"Abordable, Pas aim\\u00e9\",\"orientation\":\"v\",\"showlegend\":true,\"x\":[31.299999,22.0,19.7,4.6,22.0,9.3000002,46.5,46.5,12.7,4.6,46.5,31.299999,1.0999999999999999,1.0999999999999999,18.6,16.2,9.3000002,41.800000999999995,31.299999,46.5,26.699999000000002,26.699999000000002,22.0,31.299999,22.0,9.3000002,31.299999,17.399999],\"xaxis\":\"x\",\"y\":[47.829754,39.4468,22.445341,39.141056,41.389557,28.127439,42.178772,34.158958,43.088924,24.524988,46.296597,23.417824,46.116505,32.261086,41.904308,27.303865,37.722336,32.230995,43.068897,49.653503,45.995827,37.887188,34.722,47.173229,45.466282,39.011898,44.375519,45.736748],\"yaxis\":\"y\",\"type\":\"scatter\"},{\"customdata\":[[\"Tootsie Roll Snack Bars\"],[\"Now & Later\"],[\"Pixie Sticks\"],[\"Red vines\"],[\"Root Beer Barrels\"],[\"Runts\"],[\"Smarties candy\"],[\"Werther's Original Caramel\"],[\"Welch's Fruit Snacks\"],[\"Warheads\"],[\"Strawberry bon bons\"],[\"Twizzlers\"],[\"Sugar Daddy\"],[\"Super Bubble\"],[\"Trolli Sour Bites\"],[\"Tootsie Pop\"],[\"Sixlets\"],[\"Mike & Ike\"],[\"Tootsie Roll Midgies\"],[\"Candy Corn\"],[\"Fun Dip\"],[\"Gobstopper\"],[\"Chiclets\"],[\"Haribo Happy Cola\"],[\"Caramel Apple Pops\"],[\"Haribo Twin Snakes\"],[\"Fruit Chews\"],[\"Dum Dums\"],[\"One dime\"],[\"Laffy Taffy\"],[\"Lemonhead\"]],\"hovertemplate\":\"\\n<b style=\\\"font-size: 1.3em\\\">%{customdata}</b><br>\\n%{yaxis.title.text}: %{y}<br>\\n%{xaxis.title.text}: %{x}<br>\\n<extra></extra>\\n\",\"legendgroup\":\"0\",\"marker\":{\"color\":\"#1F77B4\",\"symbol\":\"circle\"},\"mode\":\"markers\",\"name\":\"Abordable, Pas aim\\u00e9\",\"orientation\":\"v\",\"showlegend\":false,\"x\":[32.499999,32.499999,2.3,11.600000000000001,6.899999800000001,27.900001000000003,11.600000000000001,26.699999000000002,31.299999,11.600000000000001,5.7999998,11.600000000000001,32.499999,11.600000000000001,25.5,32.499999,8.1,32.499999,1.0999999999999999,32.499999,32.499999,45.300001,32.499999,46.5,32.499999,46.5,3.4000002,3.4000002,11.600000000000001,11.600000000000001,10.4],\"xaxis\":\"x2\",\"y\":[49.653503,39.4468,37.722336,37.348522,29.703691,42.849144,45.995827,41.904308,44.375519,39.011898,34.578991,45.466282,32.230995,27.303865,47.173229,48.982651,34.722,46.411716,45.736748,38.010963,39.185505,46.783348,24.524988,34.158958,34.517681,42.178772,43.088924,39.460556,32.261086,41.389557,39.141056],\"yaxis\":\"y2\",\"type\":\"scatter\"},{\"customdata\":[[\"Tootsie Pop\"],[\"Pop Rocks\"],[\"Charleston Chew\"],[\"Caramel Apple Pops\"],[\"Chewey Lemonhead Fruit Mix\"],[\"Dots\"],[\"Dum Dums\"],[\"Sugar Babies\"],[\"Fun Dip\"],[\"Gobstopper\"],[\"Strawberry bon bons\"],[\"Runts\"],[\"Root Beer Barrels\"],[\"Mike & Ike\"],[\"Ring pop\"],[\"Red vines\"],[\"Candy Corn\"],[\"Whoppers\"]],\"hovertemplate\":\"\\n<b style=\\\"font-size: 1.3em\\\">%{customdata}</b><br>\\n%{yaxis.title.text}: %{y}<br>\\n%{xaxis.title.text}: %{x}<br>\\n<extra></extra>\\n\",\"legendgroup\":\"1\",\"marker\":{\"color\":\"#FF7F0E\",\"symbol\":\"circle\"},\"mode\":\"markers\",\"name\":\"Abordable, Aim\\u00e9\",\"orientation\":\"v\",\"showlegend\":true,\"x\":[60.399997000000006,60.399997000000006,60.399997000000006,60.399997000000006,73.199999,73.199999,73.199999,96.49999700000001,73.199999,90.600002,56.900001,87.199998,73.199999,87.199998,73.199999,58.099997,90.600002,87.199998],\"xaxis\":\"x\",\"y\":[48.982651,41.265511,38.975037,34.517681,36.017628,42.272076,39.460556,33.43755,39.185505,46.783348,34.578991,42.849144,29.703691,46.411716,35.290756,37.348522,38.010963,49.524113],\"yaxis\":\"y\",\"type\":\"scatter\"},{\"customdata\":[[\"Whoppers\"],[\"Tootsie Roll Juniors\"],[\"Ring pop\"],[\"Charleston Chew\"],[\"Pop Rocks\"],[\"Boston Baked Beans\"],[\"Mounds\"],[\"Nestle Smarties\"],[\"Chewey Lemonhead Fruit Mix\"],[\"Dots\"],[\"One quarter\"],[\"Nik L Nip\"],[\"Jawbusters\"],[\"Sugar Babies\"],[\"Payday\"]],\"hovertemplate\":\"\\n<b style=\\\"font-size: 1.3em\\\">%{customdata}</b><br>\\n%{yaxis.title.text}: %{y}<br>\\n%{xaxis.title.text}: %{x}<br>\\n<extra></extra>\\n\",\"legendgroup\":\"1\",\"marker\":{\"color\":\"#FF7F0E\",\"symbol\":\"circle\"},\"mode\":\"markers\",\"name\":\"Abordable, Aim\\u00e9\",\"orientation\":\"v\",\"showlegend\":false,\"x\":[84.799999,51.099998,96.49999700000001,51.099998,83.700001,51.099998,86.000001,97.600001,51.099998,51.099998,51.099998,97.600001,51.099998,76.700002,76.700002],\"xaxis\":\"x2\",\"y\":[49.524113,43.068897,35.290756,38.975037,41.265511,23.417824,47.829754,37.887188,36.017628,42.272076,46.116505,22.445341,28.127439,33.43755,46.296597],\"yaxis\":\"y2\",\"type\":\"scatter\"},{\"customdata\":[[\"Kit Kat\"],[\"Junior Mints\"],[\"Starburst\"],[\"Hershey's Krackel\"],[\"Sour Patch Tricksters\"],[\"Hershey's Special Dark\"],[\"Sour Patch Kids\"],[\"Milk Duds\"],[\"Mr Good Bar\"],[\"Nestle Crunch\"],[\"Reese's Miniatures\"],[\"Lifesavers big ring gummies\"],[\"Hershey's Milk Chocolate\"],[\"Reese's pieces\"],[\"Hershey's Kisses\"],[\"Almond Joy\"],[\"Haribo Gold Bears\"],[\"Haribo Sour Bears\"]],\"hovertemplate\":\"\\n<b style=\\\"font-size: 1.3em\\\">%{customdata}</b><br>\\n%{yaxis.title.text}: %{y}<br>\\n%{xaxis.title.text}: %{x}<br>\\n<extra></extra>\\n\",\"legendgroup\":\"2\",\"marker\":{\"color\":\"#2CA02C\",\"symbol\":\"circle\"},\"mode\":\"markers\",\"name\":\"Ch\\u00e8re, Pas aim\\u00e9\",\"orientation\":\"v\",\"showlegend\":true,\"x\":[31.299999,19.7,15.099999,43.000001,6.899999800000001,43.000001,6.899999800000001,30.199999,31.299999,31.299999,3.4000002,26.699999000000002,43.000001,40.599999,12.7,46.5,46.5,46.5],\"xaxis\":\"x\",\"y\":[76.7686,57.21925,67.037628,62.284481,52.825947,59.236122,59.863998,55.064072,54.526451,66.47068,81.866257,52.911392,56.490501,73.43499,55.375454,50.347546,57.11974,51.41243],\"yaxis\":\"y\",\"type\":\"scatter\"},{\"customdata\":[[\"Nerds\"],[\"Hershey's Kisses\"],[\"Milky Way Midnight\"],[\"Lifesavers big ring gummies\"],[\"Sour Patch Tricksters\"],[\"Starburst\"],[\"Sour Patch Kids\"],[\"Skittles original\"],[\"Skittles wildberry\"],[\"Reese's Miniatures\"],[\"Haribo Gold Bears\"],[\"Haribo Sour Bears\"]],\"hovertemplate\":\"\\n<b style=\\\"font-size: 1.3em\\\">%{customdata}</b><br>\\n%{yaxis.title.text}: %{y}<br>\\n%{xaxis.title.text}: %{x}<br>\\n<extra></extra>\\n\",\"legendgroup\":\"2\",\"marker\":{\"color\":\"#2CA02C\",\"symbol\":\"circle\"},\"mode\":\"markers\",\"name\":\"Ch\\u00e8re, Pas aim\\u00e9\",\"orientation\":\"v\",\"showlegend\":false,\"x\":[32.499999,9.3000002,44.100001,27.900001000000003,11.600000000000001,22.0,11.600000000000001,22.0,22.0,27.900001000000003,46.5,46.5],\"xaxis\":\"x2\",\"y\":[55.354046,55.375454,60.800701,52.911392,52.825947,67.037628,59.863998,63.08514,55.103695,81.866257,57.11974,51.41243],\"yaxis\":\"y2\",\"type\":\"scatter\"},{\"customdata\":[[\"Rolo\"],[\"Skittles original\"],[\"Twix\"],[\"Snickers\"],[\"Snickers Crisper\"],[\"Swedish Fish\"],[\"Skittles wildberry\"],[\"Milky Way Simply Caramel\"],[\"Reese's Peanut Butter cup\"],[\"100 Grand\"],[\"3 Musketeers\"],[\"Air Heads\"],[\"Baby Ruth\"],[\"Peanut butter M&M's\"],[\"M&M's\"],[\"Milky Way\"],[\"Milky Way Midnight\"],[\"Nerds\"],[\"Nestle Butterfinger\"],[\"Peanut M&Ms\"],[\"Reese's stuffed with pieces\"]],\"hovertemplate\":\"\\n<b style=\\\"font-size: 1.3em\\\">%{customdata}</b><br>\\n%{yaxis.title.text}: %{y}<br>\\n%{xaxis.title.text}: %{x}<br>\\n<extra></extra>\\n\",\"legendgroup\":\"3\",\"marker\":{\"color\":\"#D62728\",\"symbol\":\"circle\"},\"mode\":\"markers\",\"name\":\"Ch\\u00e8re, Aim\\u00e9\",\"orientation\":\"v\",\"showlegend\":true,\"x\":[86.000001,94.099998,54.6,54.6,60.399997000000006,60.399997000000006,94.099998,96.49999700000001,72.000003,73.199999,60.399997000000006,90.600002,60.399997000000006,82.499999,82.499999,60.399997000000006,73.199999,84.799999,60.399997000000006,59.299999,98.799998],\"xaxis\":\"x\",\"y\":[65.716286,63.08514,81.642914,76.673782,59.529251,54.861111,55.103695,64.35334,84.18029,66.971725,67.602936,52.341465,56.914547,71.46505,66.574585,73.099556,60.800701,55.354046,70.735641,69.483788,72.887901],\"yaxis\":\"y\",\"type\":\"scatter\"},{\"customdata\":[[\"Junior Mints\"],[\"Hershey's Special Dark\"],[\"3 Musketeers\"],[\"Air Heads\"],[\"Hershey's Krackel\"],[\"Hershey's Milk Chocolate\"],[\"Kit Kat\"],[\"Almond Joy\"],[\"Baby Ruth\"],[\"Swedish Fish\"],[\"Twix\"],[\"Snickers Crisper\"],[\"Snickers\"],[\"Rolo\"],[\"Reese's stuffed with pieces\"],[\"Reese's pieces\"],[\"Reese's Peanut Butter cup\"],[\"Peanut M&Ms\"],[\"Nestle Crunch\"],[\"Nestle Butterfinger\"],[\"Mr Good Bar\"],[\"Milky Way Simply Caramel\"],[\"Milky Way\"],[\"Milk Duds\"],[\"M&M's\"],[\"Peanut butter M&M's\"],[\"100 Grand\"]],\"hovertemplate\":\"\\n<b style=\\\"font-size: 1.3em\\\">%{customdata}</b><br>\\n%{yaxis.title.text}: %{y}<br>\\n%{xaxis.title.text}: %{x}<br>\\n<extra></extra>\\n\",\"legendgroup\":\"3\",\"marker\":{\"color\":\"#D62728\",\"symbol\":\"circle\"},\"mode\":\"markers\",\"name\":\"Ch\\u00e8re, Aim\\u00e9\",\"orientation\":\"v\",\"showlegend\":false,\"x\":[51.099998,91.799998,51.099998,51.099998,91.799998,91.799998,51.099998,76.700002,76.700002,75.5,90.600002,65.100002,65.100002,86.000001,65.100002,65.100002,65.100002,65.100002,76.700002,76.700002,91.799998,86.000001,65.100002,51.099998,65.100002,65.100002,86.000001],\"xaxis\":\"x2\",\"y\":[57.21925,59.236122,67.602936,52.341465,62.284481,56.490501,76.7686,50.347546,56.914547,54.861111,81.642914,59.529251,76.673782,65.716286,72.887901,73.43499,84.18029,69.483788,66.47068,70.735641,54.526451,64.35334,73.099556,55.064072,66.574585,71.46505,66.971725],\"yaxis\":\"y2\",\"type\":\"scatter\"}],                        {\"template\":{\"data\":{\"barpolar\":[{\"marker\":{\"line\":{\"color\":\"white\",\"width\":0.5},\"pattern\":{\"fillmode\":\"overlay\",\"size\":10,\"solidity\":0.2}},\"type\":\"barpolar\"}],\"bar\":[{\"error_x\":{\"color\":\"rgb(36,36,36)\"},\"error_y\":{\"color\":\"rgb(36,36,36)\"},\"marker\":{\"line\":{\"color\":\"white\",\"width\":0.5},\"pattern\":{\"fillmode\":\"overlay\",\"size\":10,\"solidity\":0.2}},\"type\":\"bar\"}],\"carpet\":[{\"aaxis\":{\"endlinecolor\":\"rgb(36,36,36)\",\"gridcolor\":\"white\",\"linecolor\":\"white\",\"minorgridcolor\":\"white\",\"startlinecolor\":\"rgb(36,36,36)\"},\"baxis\":{\"endlinecolor\":\"rgb(36,36,36)\",\"gridcolor\":\"white\",\"linecolor\":\"white\",\"minorgridcolor\":\"white\",\"startlinecolor\":\"rgb(36,36,36)\"},\"type\":\"carpet\"}],\"choropleth\":[{\"colorbar\":{\"outlinewidth\":1,\"tickcolor\":\"rgb(36,36,36)\",\"ticks\":\"outside\"},\"type\":\"choropleth\"}],\"contourcarpet\":[{\"colorbar\":{\"outlinewidth\":1,\"tickcolor\":\"rgb(36,36,36)\",\"ticks\":\"outside\"},\"type\":\"contourcarpet\"}],\"contour\":[{\"colorbar\":{\"outlinewidth\":1,\"tickcolor\":\"rgb(36,36,36)\",\"ticks\":\"outside\"},\"colorscale\":[[0.0,\"#440154\"],[0.1111111111111111,\"#482878\"],[0.2222222222222222,\"#3e4989\"],[0.3333333333333333,\"#31688e\"],[0.4444444444444444,\"#26828e\"],[0.5555555555555556,\"#1f9e89\"],[0.6666666666666666,\"#35b779\"],[0.7777777777777778,\"#6ece58\"],[0.8888888888888888,\"#b5de2b\"],[1.0,\"#fde725\"]],\"type\":\"contour\"}],\"heatmapgl\":[{\"colorbar\":{\"outlinewidth\":1,\"tickcolor\":\"rgb(36,36,36)\",\"ticks\":\"outside\"},\"colorscale\":[[0.0,\"#440154\"],[0.1111111111111111,\"#482878\"],[0.2222222222222222,\"#3e4989\"],[0.3333333333333333,\"#31688e\"],[0.4444444444444444,\"#26828e\"],[0.5555555555555556,\"#1f9e89\"],[0.6666666666666666,\"#35b779\"],[0.7777777777777778,\"#6ece58\"],[0.8888888888888888,\"#b5de2b\"],[1.0,\"#fde725\"]],\"type\":\"heatmapgl\"}],\"heatmap\":[{\"colorbar\":{\"outlinewidth\":1,\"tickcolor\":\"rgb(36,36,36)\",\"ticks\":\"outside\"},\"colorscale\":[[0.0,\"#440154\"],[0.1111111111111111,\"#482878\"],[0.2222222222222222,\"#3e4989\"],[0.3333333333333333,\"#31688e\"],[0.4444444444444444,\"#26828e\"],[0.5555555555555556,\"#1f9e89\"],[0.6666666666666666,\"#35b779\"],[0.7777777777777778,\"#6ece58\"],[0.8888888888888888,\"#b5de2b\"],[1.0,\"#fde725\"]],\"type\":\"heatmap\"}],\"histogram2dcontour\":[{\"colorbar\":{\"outlinewidth\":1,\"tickcolor\":\"rgb(36,36,36)\",\"ticks\":\"outside\"},\"colorscale\":[[0.0,\"#440154\"],[0.1111111111111111,\"#482878\"],[0.2222222222222222,\"#3e4989\"],[0.3333333333333333,\"#31688e\"],[0.4444444444444444,\"#26828e\"],[0.5555555555555556,\"#1f9e89\"],[0.6666666666666666,\"#35b779\"],[0.7777777777777778,\"#6ece58\"],[0.8888888888888888,\"#b5de2b\"],[1.0,\"#fde725\"]],\"type\":\"histogram2dcontour\"}],\"histogram2d\":[{\"colorbar\":{\"outlinewidth\":1,\"tickcolor\":\"rgb(36,36,36)\",\"ticks\":\"outside\"},\"colorscale\":[[0.0,\"#440154\"],[0.1111111111111111,\"#482878\"],[0.2222222222222222,\"#3e4989\"],[0.3333333333333333,\"#31688e\"],[0.4444444444444444,\"#26828e\"],[0.5555555555555556,\"#1f9e89\"],[0.6666666666666666,\"#35b779\"],[0.7777777777777778,\"#6ece58\"],[0.8888888888888888,\"#b5de2b\"],[1.0,\"#fde725\"]],\"type\":\"histogram2d\"}],\"histogram\":[{\"marker\":{\"line\":{\"color\":\"white\",\"width\":0.6}},\"type\":\"histogram\"}],\"mesh3d\":[{\"colorbar\":{\"outlinewidth\":1,\"tickcolor\":\"rgb(36,36,36)\",\"ticks\":\"outside\"},\"type\":\"mesh3d\"}],\"parcoords\":[{\"line\":{\"colorbar\":{\"outlinewidth\":1,\"tickcolor\":\"rgb(36,36,36)\",\"ticks\":\"outside\"}},\"type\":\"parcoords\"}],\"pie\":[{\"automargin\":true,\"type\":\"pie\"}],\"scatter3d\":[{\"line\":{\"colorbar\":{\"outlinewidth\":1,\"tickcolor\":\"rgb(36,36,36)\",\"ticks\":\"outside\"}},\"marker\":{\"colorbar\":{\"outlinewidth\":1,\"tickcolor\":\"rgb(36,36,36)\",\"ticks\":\"outside\"}},\"type\":\"scatter3d\"}],\"scattercarpet\":[{\"marker\":{\"colorbar\":{\"outlinewidth\":1,\"tickcolor\":\"rgb(36,36,36)\",\"ticks\":\"outside\"}},\"type\":\"scattercarpet\"}],\"scattergeo\":[{\"marker\":{\"colorbar\":{\"outlinewidth\":1,\"tickcolor\":\"rgb(36,36,36)\",\"ticks\":\"outside\"}},\"type\":\"scattergeo\"}],\"scattergl\":[{\"marker\":{\"colorbar\":{\"outlinewidth\":1,\"tickcolor\":\"rgb(36,36,36)\",\"ticks\":\"outside\"}},\"type\":\"scattergl\"}],\"scattermapbox\":[{\"marker\":{\"colorbar\":{\"outlinewidth\":1,\"tickcolor\":\"rgb(36,36,36)\",\"ticks\":\"outside\"}},\"type\":\"scattermapbox\"}],\"scatterpolargl\":[{\"marker\":{\"colorbar\":{\"outlinewidth\":1,\"tickcolor\":\"rgb(36,36,36)\",\"ticks\":\"outside\"}},\"type\":\"scatterpolargl\"}],\"scatterpolar\":[{\"marker\":{\"colorbar\":{\"outlinewidth\":1,\"tickcolor\":\"rgb(36,36,36)\",\"ticks\":\"outside\"}},\"type\":\"scatterpolar\"}],\"scatter\":[{\"fillpattern\":{\"fillmode\":\"overlay\",\"size\":10,\"solidity\":0.2},\"type\":\"scatter\"}],\"scatterternary\":[{\"marker\":{\"colorbar\":{\"outlinewidth\":1,\"tickcolor\":\"rgb(36,36,36)\",\"ticks\":\"outside\"}},\"type\":\"scatterternary\"}],\"surface\":[{\"colorbar\":{\"outlinewidth\":1,\"tickcolor\":\"rgb(36,36,36)\",\"ticks\":\"outside\"},\"colorscale\":[[0.0,\"#440154\"],[0.1111111111111111,\"#482878\"],[0.2222222222222222,\"#3e4989\"],[0.3333333333333333,\"#31688e\"],[0.4444444444444444,\"#26828e\"],[0.5555555555555556,\"#1f9e89\"],[0.6666666666666666,\"#35b779\"],[0.7777777777777778,\"#6ece58\"],[0.8888888888888888,\"#b5de2b\"],[1.0,\"#fde725\"]],\"type\":\"surface\"}],\"table\":[{\"cells\":{\"fill\":{\"color\":\"rgb(237,237,237)\"},\"line\":{\"color\":\"white\"}},\"header\":{\"fill\":{\"color\":\"rgb(217,217,217)\"},\"line\":{\"color\":\"white\"}},\"type\":\"table\"}]},\"layout\":{\"annotationdefaults\":{\"arrowhead\":0,\"arrowwidth\":1},\"autotypenumbers\":\"strict\",\"coloraxis\":{\"colorbar\":{\"outlinewidth\":1,\"tickcolor\":\"rgb(36,36,36)\",\"ticks\":\"outside\"}},\"colorscale\":{\"diverging\":[[0.0,\"rgb(103,0,31)\"],[0.1,\"rgb(178,24,43)\"],[0.2,\"rgb(214,96,77)\"],[0.3,\"rgb(244,165,130)\"],[0.4,\"rgb(253,219,199)\"],[0.5,\"rgb(247,247,247)\"],[0.6,\"rgb(209,229,240)\"],[0.7,\"rgb(146,197,222)\"],[0.8,\"rgb(67,147,195)\"],[0.9,\"rgb(33,102,172)\"],[1.0,\"rgb(5,48,97)\"]],\"sequential\":[[0.0,\"#440154\"],[0.1111111111111111,\"#482878\"],[0.2222222222222222,\"#3e4989\"],[0.3333333333333333,\"#31688e\"],[0.4444444444444444,\"#26828e\"],[0.5555555555555556,\"#1f9e89\"],[0.6666666666666666,\"#35b779\"],[0.7777777777777778,\"#6ece58\"],[0.8888888888888888,\"#b5de2b\"],[1.0,\"#fde725\"]],\"sequentialminus\":[[0.0,\"#440154\"],[0.1111111111111111,\"#482878\"],[0.2222222222222222,\"#3e4989\"],[0.3333333333333333,\"#31688e\"],[0.4444444444444444,\"#26828e\"],[0.5555555555555556,\"#1f9e89\"],[0.6666666666666666,\"#35b779\"],[0.7777777777777778,\"#6ece58\"],[0.8888888888888888,\"#b5de2b\"],[1.0,\"#fde725\"]]},\"colorway\":[\"#1F77B4\",\"#FF7F0E\",\"#2CA02C\",\"#D62728\",\"#9467BD\",\"#8C564B\",\"#E377C2\",\"#7F7F7F\",\"#BCBD22\",\"#17BECF\"],\"font\":{\"color\":\"rgb(36,36,36)\"},\"geo\":{\"bgcolor\":\"white\",\"lakecolor\":\"white\",\"landcolor\":\"white\",\"showlakes\":true,\"showland\":true,\"subunitcolor\":\"white\"},\"hoverlabel\":{\"align\":\"left\"},\"hovermode\":\"closest\",\"mapbox\":{\"style\":\"light\"},\"paper_bgcolor\":\"white\",\"plot_bgcolor\":\"white\",\"polar\":{\"angularaxis\":{\"gridcolor\":\"rgb(232,232,232)\",\"linecolor\":\"rgb(36,36,36)\",\"showgrid\":false,\"showline\":true,\"ticks\":\"outside\"},\"bgcolor\":\"white\",\"radialaxis\":{\"gridcolor\":\"rgb(232,232,232)\",\"linecolor\":\"rgb(36,36,36)\",\"showgrid\":false,\"showline\":true,\"ticks\":\"outside\"}},\"scene\":{\"xaxis\":{\"backgroundcolor\":\"white\",\"gridcolor\":\"rgb(232,232,232)\",\"gridwidth\":2,\"linecolor\":\"rgb(36,36,36)\",\"showbackground\":true,\"showgrid\":false,\"showline\":true,\"ticks\":\"outside\",\"zeroline\":false,\"zerolinecolor\":\"rgb(36,36,36)\"},\"yaxis\":{\"backgroundcolor\":\"white\",\"gridcolor\":\"rgb(232,232,232)\",\"gridwidth\":2,\"linecolor\":\"rgb(36,36,36)\",\"showbackground\":true,\"showgrid\":false,\"showline\":true,\"ticks\":\"outside\",\"zeroline\":false,\"zerolinecolor\":\"rgb(36,36,36)\"},\"zaxis\":{\"backgroundcolor\":\"white\",\"gridcolor\":\"rgb(232,232,232)\",\"gridwidth\":2,\"linecolor\":\"rgb(36,36,36)\",\"showbackground\":true,\"showgrid\":false,\"showline\":true,\"ticks\":\"outside\",\"zeroline\":false,\"zerolinecolor\":\"rgb(36,36,36)\"}},\"shapedefaults\":{\"fillcolor\":\"black\",\"line\":{\"width\":0},\"opacity\":0.3},\"ternary\":{\"aaxis\":{\"gridcolor\":\"rgb(232,232,232)\",\"linecolor\":\"rgb(36,36,36)\",\"showgrid\":false,\"showline\":true,\"ticks\":\"outside\"},\"baxis\":{\"gridcolor\":\"rgb(232,232,232)\",\"linecolor\":\"rgb(36,36,36)\",\"showgrid\":false,\"showline\":true,\"ticks\":\"outside\"},\"bgcolor\":\"white\",\"caxis\":{\"gridcolor\":\"rgb(232,232,232)\",\"linecolor\":\"rgb(36,36,36)\",\"showgrid\":false,\"showline\":true,\"ticks\":\"outside\"}},\"title\":{\"x\":0.05},\"xaxis\":{\"automargin\":true,\"gridcolor\":\"rgb(232,232,232)\",\"linecolor\":\"rgb(36,36,36)\",\"showgrid\":false,\"showline\":true,\"ticks\":\"outside\",\"title\":{\"standoff\":15},\"zeroline\":false,\"zerolinecolor\":\"rgb(36,36,36)\"},\"yaxis\":{\"automargin\":true,\"gridcolor\":\"rgb(232,232,232)\",\"linecolor\":\"rgb(36,36,36)\",\"showgrid\":false,\"showline\":true,\"ticks\":\"outside\",\"title\":{\"standoff\":15},\"zeroline\":false,\"zerolinecolor\":\"rgb(36,36,36)\"}}},\"xaxis\":{\"anchor\":\"y\",\"domain\":[0.0,0.49],\"title\":{\"text\":\"Prix relatif (%)\"},\"range\":[0,100]},\"yaxis\":{\"anchor\":\"x\",\"domain\":[0.0,1.0],\"title\":{\"text\":\"Appr\\u00e9ciation (%)\"},\"range\":[0,100]},\"xaxis2\":{\"anchor\":\"y2\",\"domain\":[0.51,1.0],\"matches\":\"x\",\"title\":{\"text\":\"Proportion de sucre (%)\"},\"range\":[0,100]},\"yaxis2\":{\"anchor\":\"x2\",\"domain\":[0.0,1.0],\"matches\":\"y\",\"showticklabels\":false,\"range\":[0,100]},\"annotations\":[{\"showarrow\":false,\"text\":\"\",\"x\":0.245,\"xanchor\":\"center\",\"xref\":\"paper\",\"y\":1.0,\"yanchor\":\"bottom\",\"yref\":\"paper\"},{\"showarrow\":false,\"text\":\"\",\"x\":0.755,\"xanchor\":\"center\",\"xref\":\"paper\",\"y\":1.0,\"yanchor\":\"bottom\",\"yref\":\"paper\"}],\"legend\":{\"title\":{\"text\":\"\"},\"tracegroupgap\":0,\"orientation\":\"h\",\"yanchor\":\"bottom\",\"y\":1.02,\"xanchor\":\"center\",\"x\":0.5,\"itemsizing\":\"constant\"},\"margin\":{\"t\":60},\"shapes\":[{\"layer\":\"below\",\"line\":{\"color\":\"grey\",\"width\":3},\"type\":\"line\",\"x0\":50,\"x1\":50,\"xref\":\"x\",\"y0\":0,\"y1\":1,\"yref\":\"y domain\"},{\"layer\":\"below\",\"line\":{\"color\":\"grey\",\"width\":3},\"type\":\"line\",\"x0\":50,\"x1\":50,\"xref\":\"x2\",\"y0\":0,\"y1\":1,\"yref\":\"y2 domain\"},{\"layer\":\"below\",\"line\":{\"color\":\"grey\",\"width\":3},\"type\":\"line\",\"x0\":0,\"x1\":1,\"xref\":\"x domain\",\"y0\":50,\"y1\":50,\"yref\":\"y\"},{\"layer\":\"below\",\"line\":{\"color\":\"grey\",\"width\":3},\"type\":\"line\",\"x0\":0,\"x1\":1,\"xref\":\"x2 domain\",\"y0\":50,\"y1\":50,\"yref\":\"y2\"}]},                        {\"responsive\": true}                    ).then(function(){\n                            \nvar gd = document.getElementById('37985826-4eb7-40d9-9967-3bcd669e12cd');\nvar x = new MutationObserver(function (mutations, observer) {{\n        var display = window.getComputedStyle(gd).display;\n        if (!display || display === 'none') {{\n            console.log([gd, 'removed!']);\n            Plotly.purge(gd);\n            observer.disconnect();\n        }}\n}});\n\n// Listen for the removal of the full notebook cells\nvar notebookContainer = gd.closest('#notebook-container');\nif (notebookContainer) {{\n    x.observe(notebookContainer, {childList: true});\n}}\n\n// Listen for the clearing of the current output cell\nvar outputEl = gd.closest('.output');\nif (outputEl) {{\n    x.observe(outputEl, {childList: true});\n}}\n\n                        })                };                });            </script>        </div>"
     },
     "metadata": {},
     "output_type": "display_data"
    }
   ],
   "source": [
    "# making the base figure\n",
    "fig = px.scatter(filtered_df, x='x_col', y=y_col, color='couleur', facet_col='type', hover_data=['competitorname'], category_orders={'color':['3', '2', '1', '0']}, template='simple_white')\n",
    "\n",
    "# updating the hoverTemplate\n",
    "fig.update_traces(hovertemplate=\"\"\"\n",
    "<b style=\"font-size: 1.3em\">%{customdata}</b><br>\n",
    "%{yaxis.title.text}: %{y}<br>\n",
    "%{xaxis.title.text}: %{x}<br>\n",
    "<extra></extra>\n",
    "\"\"\")\n",
    "\n",
    "# Removing the top tiling text\n",
    "fig.for_each_annotation(lambda x: x.update(text=''))\n",
    "\n",
    "# Changing the axis' text\n",
    "anchor_dict = {'y': 'Prix relatif (%)', 'y2': 'Proportion de sucre (%)'}\n",
    "fig.for_each_xaxis(lambda x: x.update(title={'text': anchor_dict[x['anchor']]}))\n",
    "fig.for_each_yaxis(lambda y: y.update(title={'text': 'Appréciation (%)'}) if y['anchor'] == 'x' else '')\n",
    "\n",
    "# Forcing a 1-100% view\n",
    "fig.update_xaxes(range=[0, 100])\n",
    "fig.update_yaxes(range=[0, 100])\n",
    "\n",
    "# Putting the legend in center top \n",
    "fig.update_layout(legend=dict(\n",
    "    title_text='',\n",
    "    orientation=\"h\",\n",
    "    yanchor=\"bottom\",\n",
    "    y=1.02,\n",
    "    xanchor=\"center\",\n",
    "    x=0.5,\n",
    "    itemsizing='constant'\n",
    "))\n",
    "\n",
    "# Changing the Legend's text\n",
    "color_text = {'0': 'Abordable, Pas aimé','1': 'Abordable, Aimé', '2': 'Chère, Pas aimé', '3': 'Chère, Aimé'}\n",
    "fig.for_each_trace(lambda x: x.update(name=color_text[x['name']]))\n",
    "\n",
    "# Adding the divider lines\n",
    "fig.add_vline(x=50, line_color=\"grey\", line_width=3, layer='below')\n",
    "fig.add_hline(y=50, line_color=\"grey\", line_width=3, layer='below')\n",
    "\n",
    "# Text Right Graph\n",
    "fig.add_scatter(x=[25], y=[96], mode='text', text='<b style=\"color:grey; font-size:1.3em\">Abordable & Apprécié</b>', textposition='middle center', textfont_color='rgba(80,80,80,0.6)', showlegend=False, xaxis='x', yaxis='y')\n",
    "fig.add_scatter(x=[25], y=[46], mode='text', text='<b style=\"color:grey; font-size:1.3em\">Abordable & Pas apprécié</b>', textposition='middle center', textfont_color='rgba(80,80,80,0.6)', showlegend=False, xaxis='x', yaxis='y')\n",
    "fig.add_scatter(x=[75], y=[96], mode='text', text='<b style=\"color:grey; font-size:1.3em\">Chère & Apprécié</b>', textposition='middle center', textfont_color='rgba(80,80,80,0.6)', showlegend=False, xaxis='x', yaxis='y')\n",
    "fig.add_scatter(x=[75], y=[46], mode='text', text='<b style=\"color:grey; font-size:1.3em\">Chère & Pas apprécié</b>', textposition='middle center', textfont_color='rgba(80,80,80,0.6)', showlegend=False, xaxis='x', yaxis='y')\n",
    "\n",
    "# Text Left Graph\n",
    "fig.add_scatter(x=[25], y=[96], mode='text', text='<b style=\"color:grey; font-size:1.3em\">Abordable & Apprécié</b>', textposition='middle center', textfont_color='rgba(80,80,80,0.6)', showlegend=False, xaxis='x2', yaxis='y2')\n",
    "fig.add_scatter(x=[25], y=[46], mode='text', text='<b style=\"color:grey; font-size:1.3em\">Abordable & Pas apprécié</b>', textposition='middle center', textfont_color='rgba(80,80,80,0.6)', showlegend=False, xaxis='x2', yaxis='y2')\n",
    "fig.add_scatter(x=[75], y=[96], mode='text', text='<b style=\"color:grey; font-size:1.3em\">Chère & Apprécié</b>', textposition='middle center', textfont_color='rgba(80,80,80,0.6)', showlegend=False, xaxis='x2', yaxis='y2')\n",
    "fig.add_scatter(x=[75], y=[46], mode='text', text='<b style=\"color:grey; font-size:1.3em\">Chère & Pas apprécié</b>', textposition='middle center', textfont_color='rgba(80,80,80,0.6)', showlegend=False, xaxis='x2', yaxis='y2')\n",
    "\n",
    "# Putting text behind the scatter plot\n",
    "fig.data = fig.data[-8:] + fig.data[:-8]\n",
    "fig"
   ],
   "metadata": {
    "collapsed": false,
    "ExecuteTime": {
     "end_time": "2024-04-02T00:53:47.169039Z",
     "start_time": "2024-04-02T00:53:47.056029Z"
    }
   },
   "id": "be029b8a114ed23c",
   "execution_count": 108
  },
  {
   "cell_type": "code",
   "outputs": [],
   "source": [],
   "metadata": {
    "collapsed": false
   },
   "id": "4e78a0f191041264"
  }
 ],
 "metadata": {
  "kernelspec": {
   "display_name": "Python 3",
   "language": "python",
   "name": "python3"
  },
  "language_info": {
   "codemirror_mode": {
    "name": "ipython",
    "version": 2
   },
   "file_extension": ".py",
   "mimetype": "text/x-python",
   "name": "python",
   "nbconvert_exporter": "python",
   "pygments_lexer": "ipython2",
   "version": "2.7.6"
  }
 },
 "nbformat": 4,
 "nbformat_minor": 5
}
